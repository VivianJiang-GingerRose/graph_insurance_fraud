{
 "cells": [
  {
   "cell_type": "code",
   "execution_count": 151,
   "id": "eb39f6d3",
   "metadata": {},
   "outputs": [],
   "source": [
    "# import package\n",
    "from igraph import *\n",
    "import pandas as pd\n",
    "import numpy as np\n",
    "from sklearn import preprocessing\n",
    "from sklearn.metrics import roc_auc_score, f1_score\n",
    "from functools import reduce\n",
    "import xgboost\n",
    "import shap\n",
    "import matplotlib.pyplot as plt\n",
    "\n",
    "pd.options.mode.chained_assignment = None"
   ]
  },
  {
   "cell_type": "markdown",
   "id": "97ec3044",
   "metadata": {},
   "source": [
    "----\n",
    "# Step 1 Data Pre-processing\n",
    "Process in-patient data, including creating labels"
   ]
  },
  {
   "cell_type": "code",
   "execution_count": 3,
   "id": "3ee61279",
   "metadata": {},
   "outputs": [],
   "source": [
    "df_train_inp = pd.read_csv(\"Train_Inpatientdata-1542865627584.csv\")\n",
    "df_train_ben = pd.read_csv(\"Train_Beneficiarydata-1542865627584.csv\")\n",
    "df_train_fra = pd.read_csv(\"Train-1542865627584.csv\")"
   ]
  },
  {
   "cell_type": "code",
   "execution_count": 4,
   "id": "16e3e8ef",
   "metadata": {},
   "outputs": [
    {
     "name": "stdout",
     "output_type": "stream",
     "text": [
      "(40474, 30)\n"
     ]
    },
    {
     "data": {
      "text/html": [
       "<div>\n",
       "<style scoped>\n",
       "    .dataframe tbody tr th:only-of-type {\n",
       "        vertical-align: middle;\n",
       "    }\n",
       "\n",
       "    .dataframe tbody tr th {\n",
       "        vertical-align: top;\n",
       "    }\n",
       "\n",
       "    .dataframe thead th {\n",
       "        text-align: right;\n",
       "    }\n",
       "</style>\n",
       "<table border=\"1\" class=\"dataframe\">\n",
       "  <thead>\n",
       "    <tr style=\"text-align: right;\">\n",
       "      <th></th>\n",
       "      <th>BeneID</th>\n",
       "      <th>ClaimID</th>\n",
       "      <th>ClaimStartDt</th>\n",
       "      <th>ClaimEndDt</th>\n",
       "      <th>Provider</th>\n",
       "      <th>InscClaimAmtReimbursed</th>\n",
       "      <th>AttendingPhysician</th>\n",
       "      <th>OperatingPhysician</th>\n",
       "      <th>OtherPhysician</th>\n",
       "      <th>AdmissionDt</th>\n",
       "      <th>...</th>\n",
       "      <th>ClmDiagnosisCode_7</th>\n",
       "      <th>ClmDiagnosisCode_8</th>\n",
       "      <th>ClmDiagnosisCode_9</th>\n",
       "      <th>ClmDiagnosisCode_10</th>\n",
       "      <th>ClmProcedureCode_1</th>\n",
       "      <th>ClmProcedureCode_2</th>\n",
       "      <th>ClmProcedureCode_3</th>\n",
       "      <th>ClmProcedureCode_4</th>\n",
       "      <th>ClmProcedureCode_5</th>\n",
       "      <th>ClmProcedureCode_6</th>\n",
       "    </tr>\n",
       "  </thead>\n",
       "  <tbody>\n",
       "    <tr>\n",
       "      <th>0</th>\n",
       "      <td>BENE11001</td>\n",
       "      <td>CLM46614</td>\n",
       "      <td>2009-04-12</td>\n",
       "      <td>2009-04-18</td>\n",
       "      <td>PRV55912</td>\n",
       "      <td>26000</td>\n",
       "      <td>PHY390922</td>\n",
       "      <td>NaN</td>\n",
       "      <td>NaN</td>\n",
       "      <td>2009-04-12</td>\n",
       "      <td>...</td>\n",
       "      <td>2724</td>\n",
       "      <td>19889</td>\n",
       "      <td>5849</td>\n",
       "      <td>NaN</td>\n",
       "      <td>NaN</td>\n",
       "      <td>NaN</td>\n",
       "      <td>NaN</td>\n",
       "      <td>NaN</td>\n",
       "      <td>NaN</td>\n",
       "      <td>NaN</td>\n",
       "    </tr>\n",
       "    <tr>\n",
       "      <th>1</th>\n",
       "      <td>BENE11001</td>\n",
       "      <td>CLM66048</td>\n",
       "      <td>2009-08-31</td>\n",
       "      <td>2009-09-02</td>\n",
       "      <td>PRV55907</td>\n",
       "      <td>5000</td>\n",
       "      <td>PHY318495</td>\n",
       "      <td>PHY318495</td>\n",
       "      <td>NaN</td>\n",
       "      <td>2009-08-31</td>\n",
       "      <td>...</td>\n",
       "      <td>NaN</td>\n",
       "      <td>NaN</td>\n",
       "      <td>NaN</td>\n",
       "      <td>NaN</td>\n",
       "      <td>7092.0</td>\n",
       "      <td>NaN</td>\n",
       "      <td>NaN</td>\n",
       "      <td>NaN</td>\n",
       "      <td>NaN</td>\n",
       "      <td>NaN</td>\n",
       "    </tr>\n",
       "  </tbody>\n",
       "</table>\n",
       "<p>2 rows × 30 columns</p>\n",
       "</div>"
      ],
      "text/plain": [
       "      BeneID   ClaimID ClaimStartDt  ClaimEndDt  Provider  \\\n",
       "0  BENE11001  CLM46614   2009-04-12  2009-04-18  PRV55912   \n",
       "1  BENE11001  CLM66048   2009-08-31  2009-09-02  PRV55907   \n",
       "\n",
       "   InscClaimAmtReimbursed AttendingPhysician OperatingPhysician  \\\n",
       "0                   26000          PHY390922                NaN   \n",
       "1                    5000          PHY318495          PHY318495   \n",
       "\n",
       "  OtherPhysician AdmissionDt  ... ClmDiagnosisCode_7  ClmDiagnosisCode_8  \\\n",
       "0            NaN  2009-04-12  ...               2724               19889   \n",
       "1            NaN  2009-08-31  ...                NaN                 NaN   \n",
       "\n",
       "  ClmDiagnosisCode_9 ClmDiagnosisCode_10 ClmProcedureCode_1  \\\n",
       "0               5849                 NaN                NaN   \n",
       "1                NaN                 NaN             7092.0   \n",
       "\n",
       "  ClmProcedureCode_2 ClmProcedureCode_3 ClmProcedureCode_4 ClmProcedureCode_5  \\\n",
       "0                NaN                NaN                NaN                NaN   \n",
       "1                NaN                NaN                NaN                NaN   \n",
       "\n",
       "  ClmProcedureCode_6  \n",
       "0                NaN  \n",
       "1                NaN  \n",
       "\n",
       "[2 rows x 30 columns]"
      ]
     },
     "execution_count": 4,
     "metadata": {},
     "output_type": "execute_result"
    }
   ],
   "source": [
    "print(df_train_inp.shape)\n",
    "df_train_inp.head(2)"
   ]
  },
  {
   "cell_type": "code",
   "execution_count": 5,
   "id": "3a91a854",
   "metadata": {},
   "outputs": [
    {
     "name": "stdout",
     "output_type": "stream",
     "text": [
      "(138556, 25)\n"
     ]
    },
    {
     "data": {
      "text/html": [
       "<div>\n",
       "<style scoped>\n",
       "    .dataframe tbody tr th:only-of-type {\n",
       "        vertical-align: middle;\n",
       "    }\n",
       "\n",
       "    .dataframe tbody tr th {\n",
       "        vertical-align: top;\n",
       "    }\n",
       "\n",
       "    .dataframe thead th {\n",
       "        text-align: right;\n",
       "    }\n",
       "</style>\n",
       "<table border=\"1\" class=\"dataframe\">\n",
       "  <thead>\n",
       "    <tr style=\"text-align: right;\">\n",
       "      <th></th>\n",
       "      <th>BeneID</th>\n",
       "      <th>DOB</th>\n",
       "      <th>DOD</th>\n",
       "      <th>Gender</th>\n",
       "      <th>Race</th>\n",
       "      <th>RenalDiseaseIndicator</th>\n",
       "      <th>State</th>\n",
       "      <th>County</th>\n",
       "      <th>NoOfMonths_PartACov</th>\n",
       "      <th>NoOfMonths_PartBCov</th>\n",
       "      <th>...</th>\n",
       "      <th>ChronicCond_Depression</th>\n",
       "      <th>ChronicCond_Diabetes</th>\n",
       "      <th>ChronicCond_IschemicHeart</th>\n",
       "      <th>ChronicCond_Osteoporasis</th>\n",
       "      <th>ChronicCond_rheumatoidarthritis</th>\n",
       "      <th>ChronicCond_stroke</th>\n",
       "      <th>IPAnnualReimbursementAmt</th>\n",
       "      <th>IPAnnualDeductibleAmt</th>\n",
       "      <th>OPAnnualReimbursementAmt</th>\n",
       "      <th>OPAnnualDeductibleAmt</th>\n",
       "    </tr>\n",
       "  </thead>\n",
       "  <tbody>\n",
       "    <tr>\n",
       "      <th>0</th>\n",
       "      <td>BENE11001</td>\n",
       "      <td>1943-01-01</td>\n",
       "      <td>NaN</td>\n",
       "      <td>1</td>\n",
       "      <td>1</td>\n",
       "      <td>0</td>\n",
       "      <td>39</td>\n",
       "      <td>230</td>\n",
       "      <td>12</td>\n",
       "      <td>12</td>\n",
       "      <td>...</td>\n",
       "      <td>1</td>\n",
       "      <td>1</td>\n",
       "      <td>1</td>\n",
       "      <td>2</td>\n",
       "      <td>1</td>\n",
       "      <td>1</td>\n",
       "      <td>36000</td>\n",
       "      <td>3204</td>\n",
       "      <td>60</td>\n",
       "      <td>70</td>\n",
       "    </tr>\n",
       "    <tr>\n",
       "      <th>1</th>\n",
       "      <td>BENE11002</td>\n",
       "      <td>1936-09-01</td>\n",
       "      <td>NaN</td>\n",
       "      <td>2</td>\n",
       "      <td>1</td>\n",
       "      <td>0</td>\n",
       "      <td>39</td>\n",
       "      <td>280</td>\n",
       "      <td>12</td>\n",
       "      <td>12</td>\n",
       "      <td>...</td>\n",
       "      <td>2</td>\n",
       "      <td>2</td>\n",
       "      <td>2</td>\n",
       "      <td>2</td>\n",
       "      <td>2</td>\n",
       "      <td>2</td>\n",
       "      <td>0</td>\n",
       "      <td>0</td>\n",
       "      <td>30</td>\n",
       "      <td>50</td>\n",
       "    </tr>\n",
       "  </tbody>\n",
       "</table>\n",
       "<p>2 rows × 25 columns</p>\n",
       "</div>"
      ],
      "text/plain": [
       "      BeneID         DOB  DOD  Gender  Race RenalDiseaseIndicator  State  \\\n",
       "0  BENE11001  1943-01-01  NaN       1     1                     0     39   \n",
       "1  BENE11002  1936-09-01  NaN       2     1                     0     39   \n",
       "\n",
       "   County  NoOfMonths_PartACov  NoOfMonths_PartBCov  ...  \\\n",
       "0     230                   12                   12  ...   \n",
       "1     280                   12                   12  ...   \n",
       "\n",
       "   ChronicCond_Depression  ChronicCond_Diabetes  ChronicCond_IschemicHeart  \\\n",
       "0                       1                     1                          1   \n",
       "1                       2                     2                          2   \n",
       "\n",
       "   ChronicCond_Osteoporasis  ChronicCond_rheumatoidarthritis  \\\n",
       "0                         2                                1   \n",
       "1                         2                                2   \n",
       "\n",
       "   ChronicCond_stroke  IPAnnualReimbursementAmt  IPAnnualDeductibleAmt  \\\n",
       "0                   1                     36000                   3204   \n",
       "1                   2                         0                      0   \n",
       "\n",
       "   OPAnnualReimbursementAmt  OPAnnualDeductibleAmt  \n",
       "0                        60                     70  \n",
       "1                        30                     50  \n",
       "\n",
       "[2 rows x 25 columns]"
      ]
     },
     "execution_count": 5,
     "metadata": {},
     "output_type": "execute_result"
    }
   ],
   "source": [
    "print(df_train_ben.shape)\n",
    "df_train_ben.head(2)"
   ]
  },
  {
   "cell_type": "code",
   "execution_count": 6,
   "id": "0de5e61b",
   "metadata": {},
   "outputs": [
    {
     "name": "stdout",
     "output_type": "stream",
     "text": [
      "(5410, 2)\n"
     ]
    },
    {
     "data": {
      "text/html": [
       "<div>\n",
       "<style scoped>\n",
       "    .dataframe tbody tr th:only-of-type {\n",
       "        vertical-align: middle;\n",
       "    }\n",
       "\n",
       "    .dataframe tbody tr th {\n",
       "        vertical-align: top;\n",
       "    }\n",
       "\n",
       "    .dataframe thead th {\n",
       "        text-align: right;\n",
       "    }\n",
       "</style>\n",
       "<table border=\"1\" class=\"dataframe\">\n",
       "  <thead>\n",
       "    <tr style=\"text-align: right;\">\n",
       "      <th></th>\n",
       "      <th>Provider</th>\n",
       "      <th>PotentialFraud</th>\n",
       "    </tr>\n",
       "  </thead>\n",
       "  <tbody>\n",
       "    <tr>\n",
       "      <th>0</th>\n",
       "      <td>PRV51001</td>\n",
       "      <td>No</td>\n",
       "    </tr>\n",
       "    <tr>\n",
       "      <th>1</th>\n",
       "      <td>PRV51003</td>\n",
       "      <td>Yes</td>\n",
       "    </tr>\n",
       "  </tbody>\n",
       "</table>\n",
       "</div>"
      ],
      "text/plain": [
       "   Provider PotentialFraud\n",
       "0  PRV51001             No\n",
       "1  PRV51003            Yes"
      ]
     },
     "execution_count": 6,
     "metadata": {},
     "output_type": "execute_result"
    }
   ],
   "source": [
    "print(df_train_fra.shape)\n",
    "df_train_fra.head(2)"
   ]
  },
  {
   "cell_type": "markdown",
   "id": "f84c2f52",
   "metadata": {},
   "source": [
    "Fraud (model target) is at provider level.."
   ]
  },
  {
   "cell_type": "markdown",
   "id": "6f196595",
   "metadata": {},
   "source": [
    "## 1) Prepare in patient data for modelling"
   ]
  },
  {
   "cell_type": "code",
   "execution_count": 7,
   "id": "37678681",
   "metadata": {},
   "outputs": [],
   "source": [
    "df_train_inp['OperatingPhysician'].fillna('None', inplace=True)\n",
    "df_train_inp['OtherPhysician'].fillna('None', inplace=True)\n",
    "\n",
    "df_train_inp['ClaimStartDt'] = pd.to_datetime(df_train_inp['ClaimStartDt'], format = '%Y-%m-%d')\n",
    "df_train_inp['ClaimEndDt'] = pd.to_datetime(df_train_inp['ClaimEndDt'], format = '%Y-%m-%d')\n",
    "\n",
    "df_train_inp['ClaimDurationInDays'] = ((df_train_inp['ClaimEndDt']-df_train_inp['ClaimStartDt']).dt.days).astype('int64')\n",
    "\n",
    "df_train_inp['AdmissionDt'] = pd.to_datetime(df_train_inp['AdmissionDt'], format='%Y-%m-%d')\n",
    "df_train_inp['DischargeDt'] = pd.to_datetime(df_train_inp['DischargeDt'], format='%Y-%m-%d')\n",
    "df_train_inp['AdmissionDurationInDays'] = ((df_train_inp['DischargeDt']-df_train_inp['AdmissionDt']).dt.days).astype('int64')\n",
    "df_train_inp = df_train_inp.drop(columns=['ClaimEndDt', 'AdmissionDt', 'DischargeDt'])\n",
    "\n",
    "# for ClmProcedureCodeCount in range(4):\n",
    "#     df_train_inp['ClmProcedureCode_{}'.format(ClmProcedureCodeCount + 1)].fillna(0, inplace=True)\n",
    "#\n",
    "# for ClmDiagnosisCodeCount in range(10):\n",
    "#     df_train_inp['ClmDiagnosisCode_{}'.format(ClmDiagnosisCodeCount + 1)].fillna('0', inplace=True)\n",
    "\n",
    "diag_proce_col = ['ClmAdmitDiagnosisCode', 'ClmDiagnosisCode_1', 'ClmDiagnosisCode_10',\n",
    "                  'ClmDiagnosisCode_2', 'ClmDiagnosisCode_3', 'ClmDiagnosisCode_4',\n",
    "                  'ClmDiagnosisCode_5', 'ClmDiagnosisCode_6', 'ClmDiagnosisCode_7',\n",
    "                  'ClmDiagnosisCode_8', 'ClmDiagnosisCode_9', 'ClmProcedureCode_1',\n",
    "                  'ClmProcedureCode_2', 'ClmProcedureCode_3', 'ClmProcedureCode_4',\n",
    "                  'ClmProcedureCode_5', 'ClmProcedureCode_6']\n",
    "df_train_inp[diag_proce_col] = df_train_inp[diag_proce_col].replace({np.nan:0})\n",
    "\n",
    "df_train_inp.DeductibleAmtPaid.fillna(0, inplace=True)\n",
    "\n",
    "\"\"\"Encode categorical columns\"\"\"\n",
    "def encoded_cat(dataset, feature_to_encode='', col_list=[]):\n",
    "    \"\"\"This function returns top 5 cat column useful in determining potential fraud\"\"\"\n",
    "    outer_list = []\n",
    "    for col in col_list:\n",
    "        list_1 = list()\n",
    "\n",
    "        for item in list(dataset[col]):\n",
    "            if str(item) == str(feature_to_encode):\n",
    "                list_1.append(1)\n",
    "            else:\n",
    "                list_1.append(0)\n",
    "\n",
    "        outer_list.append(list_1)\n",
    "\n",
    "    li_sum = np.array([0] * 40474)\n",
    "\n",
    "    for i in range(0, len(outer_list)):\n",
    "        li1 = np.array(outer_list[i])\n",
    "        li_sum = li_sum + li1\n",
    "\n",
    "    return li_sum\n",
    "\n",
    "\n",
    "procedure_col = ['ClmProcedureCode_1', 'ClmProcedureCode_2', 'ClmProcedureCode_3', 'ClmProcedureCode_4',\n",
    "                 'ClmProcedureCode_5', 'ClmProcedureCode_6']\n",
    "\n",
    "diagnosis_col = ['ClmDiagnosisCode_1', 'ClmDiagnosisCode_2', 'ClmDiagnosisCode_3', 'ClmDiagnosisCode_4',\n",
    "                 'ClmDiagnosisCode_5', 'ClmDiagnosisCode_6', 'ClmDiagnosisCode_7', 'ClmDiagnosisCode_8',\n",
    "                 'ClmDiagnosisCode_9', 'ClmDiagnosisCode_10']\n",
    "\n",
    "#top 5 procedure\n",
    "# 4019.0, 2724.0, 9904.0, 8154.0, 66.0\n",
    "df_train_inp['pr_4019'] = encoded_cat(df_train_inp, '4019.0', procedure_col)\n",
    "df_train_inp['pr_2724'] = encoded_cat(df_train_inp, '2724.0', procedure_col)\n",
    "df_train_inp['pr_9904'] = encoded_cat(df_train_inp,'9904.0',procedure_col)\n",
    "df_train_inp['pr_8154'] = encoded_cat(df_train_inp,'8154.0',procedure_col)\n",
    "df_train_inp['pr_66'] = encoded_cat(df_train_inp,'66.0',procedure_col)\n",
    "\n",
    "#top 5 diagnosis \n",
    "#4019,25000,2724,V5869,42731\n",
    "df_train_inp['di_4019'] = encoded_cat(df_train_inp, '4019' ,diagnosis_col)\n",
    "df_train_inp['di_25000'] = encoded_cat(df_train_inp, '25000' ,diagnosis_col)\n",
    "df_train_inp['di_2724'] = encoded_cat(df_train_inp, '2724' ,diagnosis_col)\n",
    "df_train_inp['di_V5869'] = encoded_cat(df_train_inp,'V5869',diagnosis_col)\n",
    "df_train_inp['di_42731'] = encoded_cat(df_train_inp,'42731',diagnosis_col)\n",
    "\n",
    "for i in diag_proce_col:\n",
    "    df_train_inp[i][df_train_inp[i] != 0] = 1\n",
    "\n",
    "df_train_inp[diag_proce_col] = df_train_inp[diag_proce_col].astype(float)\n",
    "\n",
    "# adding column total_num_diag\n",
    "df_train_inp['total_num_diag'] = 0\n",
    "for col in diagnosis_col:\n",
    "    df_train_inp['total_num_diag'] = df_train_inp['total_num_diag'] + df_train_inp[col]\n",
    "\n",
    "# adding column total_num_proce\n",
    "df_train_inp['total_num_proce'] = 0\n",
    "for col in procedure_col:\n",
    "    df_train_inp['total_num_proce'] = df_train_inp['total_num_proce'] + df_train_inp[col]\n",
    "\n",
    "df_train_inp['total_num_diag'] = df_train_inp['total_num_diag'].astype(float)\n",
    "df_train_inp['total_num_proce'] = df_train_inp['total_num_proce'].astype(float)"
   ]
  },
  {
   "cell_type": "code",
   "execution_count": 8,
   "id": "53081b4e",
   "metadata": {},
   "outputs": [
    {
     "data": {
      "text/html": [
       "<div>\n",
       "<style scoped>\n",
       "    .dataframe tbody tr th:only-of-type {\n",
       "        vertical-align: middle;\n",
       "    }\n",
       "\n",
       "    .dataframe tbody tr th {\n",
       "        vertical-align: top;\n",
       "    }\n",
       "\n",
       "    .dataframe thead th {\n",
       "        text-align: right;\n",
       "    }\n",
       "</style>\n",
       "<table border=\"1\" class=\"dataframe\">\n",
       "  <thead>\n",
       "    <tr style=\"text-align: right;\">\n",
       "      <th></th>\n",
       "      <th>BeneID</th>\n",
       "      <th>ClaimID</th>\n",
       "      <th>ClaimStartDt</th>\n",
       "      <th>Provider</th>\n",
       "      <th>InscClaimAmtReimbursed</th>\n",
       "      <th>AttendingPhysician</th>\n",
       "      <th>OperatingPhysician</th>\n",
       "      <th>OtherPhysician</th>\n",
       "      <th>ClmAdmitDiagnosisCode</th>\n",
       "      <th>DeductibleAmtPaid</th>\n",
       "      <th>...</th>\n",
       "      <th>pr_9904</th>\n",
       "      <th>pr_8154</th>\n",
       "      <th>pr_66</th>\n",
       "      <th>di_4019</th>\n",
       "      <th>di_25000</th>\n",
       "      <th>di_2724</th>\n",
       "      <th>di_V5869</th>\n",
       "      <th>di_42731</th>\n",
       "      <th>total_num_diag</th>\n",
       "      <th>total_num_proce</th>\n",
       "    </tr>\n",
       "  </thead>\n",
       "  <tbody>\n",
       "    <tr>\n",
       "      <th>0</th>\n",
       "      <td>BENE11001</td>\n",
       "      <td>CLM46614</td>\n",
       "      <td>2009-04-12</td>\n",
       "      <td>PRV55912</td>\n",
       "      <td>26000</td>\n",
       "      <td>PHY390922</td>\n",
       "      <td>None</td>\n",
       "      <td>None</td>\n",
       "      <td>1.0</td>\n",
       "      <td>1068.0</td>\n",
       "      <td>...</td>\n",
       "      <td>0</td>\n",
       "      <td>0</td>\n",
       "      <td>0</td>\n",
       "      <td>1</td>\n",
       "      <td>0</td>\n",
       "      <td>1</td>\n",
       "      <td>0</td>\n",
       "      <td>0</td>\n",
       "      <td>9.0</td>\n",
       "      <td>0.0</td>\n",
       "    </tr>\n",
       "    <tr>\n",
       "      <th>1</th>\n",
       "      <td>BENE11001</td>\n",
       "      <td>CLM66048</td>\n",
       "      <td>2009-08-31</td>\n",
       "      <td>PRV55907</td>\n",
       "      <td>5000</td>\n",
       "      <td>PHY318495</td>\n",
       "      <td>PHY318495</td>\n",
       "      <td>None</td>\n",
       "      <td>1.0</td>\n",
       "      <td>1068.0</td>\n",
       "      <td>...</td>\n",
       "      <td>0</td>\n",
       "      <td>0</td>\n",
       "      <td>0</td>\n",
       "      <td>0</td>\n",
       "      <td>0</td>\n",
       "      <td>0</td>\n",
       "      <td>0</td>\n",
       "      <td>0</td>\n",
       "      <td>3.0</td>\n",
       "      <td>1.0</td>\n",
       "    </tr>\n",
       "  </tbody>\n",
       "</table>\n",
       "<p>2 rows × 41 columns</p>\n",
       "</div>"
      ],
      "text/plain": [
       "      BeneID   ClaimID ClaimStartDt  Provider  InscClaimAmtReimbursed  \\\n",
       "0  BENE11001  CLM46614   2009-04-12  PRV55912                   26000   \n",
       "1  BENE11001  CLM66048   2009-08-31  PRV55907                    5000   \n",
       "\n",
       "  AttendingPhysician OperatingPhysician OtherPhysician  ClmAdmitDiagnosisCode  \\\n",
       "0          PHY390922               None           None                    1.0   \n",
       "1          PHY318495          PHY318495           None                    1.0   \n",
       "\n",
       "   DeductibleAmtPaid  ... pr_9904  pr_8154  pr_66  di_4019  di_25000  di_2724  \\\n",
       "0             1068.0  ...       0        0      0        1         0        1   \n",
       "1             1068.0  ...       0        0      0        0         0        0   \n",
       "\n",
       "   di_V5869  di_42731  total_num_diag  total_num_proce  \n",
       "0         0         0             9.0              0.0  \n",
       "1         0         0             3.0              1.0  \n",
       "\n",
       "[2 rows x 41 columns]"
      ]
     },
     "execution_count": 8,
     "metadata": {},
     "output_type": "execute_result"
    }
   ],
   "source": [
    "df_train_inp.head(2)"
   ]
  },
  {
   "cell_type": "markdown",
   "id": "25669ed8",
   "metadata": {},
   "source": [
    "## 2) Pre-process benefit data"
   ]
  },
  {
   "cell_type": "code",
   "execution_count": 9,
   "id": "9e2aa925",
   "metadata": {},
   "outputs": [
    {
     "data": {
      "text/plain": [
       "Index(['BeneID', 'DOB', 'DOD', 'Gender', 'Race', 'RenalDiseaseIndicator',\n",
       "       'State', 'County', 'NoOfMonths_PartACov', 'NoOfMonths_PartBCov',\n",
       "       'ChronicCond_Alzheimer', 'ChronicCond_Heartfailure',\n",
       "       'ChronicCond_KidneyDisease', 'ChronicCond_Cancer',\n",
       "       'ChronicCond_ObstrPulmonary', 'ChronicCond_Depression',\n",
       "       'ChronicCond_Diabetes', 'ChronicCond_IschemicHeart',\n",
       "       'ChronicCond_Osteoporasis', 'ChronicCond_rheumatoidarthritis',\n",
       "       'ChronicCond_stroke', 'IPAnnualReimbursementAmt',\n",
       "       'IPAnnualDeductibleAmt', 'OPAnnualReimbursementAmt',\n",
       "       'OPAnnualDeductibleAmt'],\n",
       "      dtype='object')"
      ]
     },
     "execution_count": 9,
     "metadata": {},
     "output_type": "execute_result"
    }
   ],
   "source": [
    "df_train_ben.columns"
   ]
  },
  {
   "cell_type": "code",
   "execution_count": 10,
   "id": "ce5fbf21",
   "metadata": {},
   "outputs": [
    {
     "data": {
      "text/plain": [
       "1    83391\n",
       "2    55165\n",
       "Name: ChronicCond_Diabetes, dtype: int64"
      ]
     },
     "execution_count": 10,
     "metadata": {},
     "output_type": "execute_result"
    }
   ],
   "source": [
    "df_train_ben['ChronicCond_Diabetes'].value_counts()"
   ]
  },
  {
   "cell_type": "code",
   "execution_count": 11,
   "id": "5e29b851",
   "metadata": {},
   "outputs": [
    {
     "data": {
      "text/plain": [
       "2    102972\n",
       "1     35584\n",
       "Name: ChronicCond_rheumatoidarthritis, dtype: int64"
      ]
     },
     "execution_count": 11,
     "metadata": {},
     "output_type": "execute_result"
    }
   ],
   "source": [
    "df_train_ben['ChronicCond_rheumatoidarthritis'].value_counts()"
   ]
  },
  {
   "cell_type": "markdown",
   "id": "e198ae2d",
   "metadata": {},
   "source": [
    "Columns contain value 1 or 2, need to be encoded"
   ]
  },
  {
   "cell_type": "code",
   "execution_count": 12,
   "id": "61a92ec2",
   "metadata": {},
   "outputs": [
    {
     "name": "stdout",
     "output_type": "stream",
     "text": [
      "['ChronicCond_Alzheimer_2', 'ChronicCond_Heartfailure_2', 'ChronicCond_KidneyDisease_2', 'ChronicCond_Cancer_2', 'ChronicCond_ObstrPulmonary_2', 'ChronicCond_Depression_2', 'ChronicCond_Diabetes_2', 'ChronicCond_IschemicHeart_2', 'ChronicCond_Osteoporasis_2', 'ChronicCond_rheumatoidarthritis_2', 'ChronicCond_stroke_2']\n"
     ]
    }
   ],
   "source": [
    "## One-hot encode the Columns\n",
    "col_Chronic = [col for col in df_train_ben if col.startswith('ChronicCond_')]\n",
    "df_train_ben_p = pd.get_dummies(df_train_ben, columns = col_Chronic)\n",
    "\n",
    "## Assume value 1 in the original means the patient has chronical illness. Drop one-hot-encoded _2's\n",
    "col_Chronic_2 = [col for col in df_train_ben_p if col.startswith('ChronicCond_') & col.endswith('_2')]\n",
    "print(col_Chronic_2)\n",
    "df_train_ben_p = df_train_ben_p.drop(columns=col_Chronic_2)"
   ]
  },
  {
   "cell_type": "code",
   "execution_count": 13,
   "id": "91154897",
   "metadata": {},
   "outputs": [
    {
     "data": {
      "text/plain": [
       "0    118978\n",
       "Y     19578\n",
       "Name: RenalDiseaseIndicator, dtype: int64"
      ]
     },
     "execution_count": 13,
     "metadata": {},
     "output_type": "execute_result"
    }
   ],
   "source": [
    "df_train_ben_p['RenalDiseaseIndicator'].value_counts()"
   ]
  },
  {
   "cell_type": "code",
   "execution_count": 14,
   "id": "4b313140",
   "metadata": {},
   "outputs": [],
   "source": [
    "df_train_ben_p = pd.get_dummies(df_train_ben_p, columns = ['RenalDiseaseIndicator'])\n",
    "df_train_ben_p = df_train_ben_p.drop(columns='RenalDiseaseIndicator_0')"
   ]
  },
  {
   "cell_type": "code",
   "execution_count": 15,
   "id": "a122bda9",
   "metadata": {},
   "outputs": [
    {
     "data": {
      "text/plain": [
       "Index(['BeneID', 'DOB', 'DOD', 'Gender', 'Race', 'State', 'County',\n",
       "       'NoOfMonths_PartACov', 'NoOfMonths_PartBCov',\n",
       "       'IPAnnualReimbursementAmt', 'IPAnnualDeductibleAmt',\n",
       "       'OPAnnualReimbursementAmt', 'OPAnnualDeductibleAmt',\n",
       "       'ChronicCond_Alzheimer_1', 'ChronicCond_Heartfailure_1',\n",
       "       'ChronicCond_KidneyDisease_1', 'ChronicCond_Cancer_1',\n",
       "       'ChronicCond_ObstrPulmonary_1', 'ChronicCond_Depression_1',\n",
       "       'ChronicCond_Diabetes_1', 'ChronicCond_IschemicHeart_1',\n",
       "       'ChronicCond_Osteoporasis_1', 'ChronicCond_rheumatoidarthritis_1',\n",
       "       'ChronicCond_stroke_1', 'RenalDiseaseIndicator_Y'],\n",
       "      dtype='object')"
      ]
     },
     "execution_count": 15,
     "metadata": {},
     "output_type": "execute_result"
    }
   ],
   "source": [
    "df_train_ben_p.columns"
   ]
  },
  {
   "cell_type": "code",
   "execution_count": 16,
   "id": "98177f22",
   "metadata": {},
   "outputs": [
    {
     "data": {
      "text/html": [
       "<div>\n",
       "<style scoped>\n",
       "    .dataframe tbody tr th:only-of-type {\n",
       "        vertical-align: middle;\n",
       "    }\n",
       "\n",
       "    .dataframe tbody tr th {\n",
       "        vertical-align: top;\n",
       "    }\n",
       "\n",
       "    .dataframe thead th {\n",
       "        text-align: right;\n",
       "    }\n",
       "</style>\n",
       "<table border=\"1\" class=\"dataframe\">\n",
       "  <thead>\n",
       "    <tr style=\"text-align: right;\">\n",
       "      <th></th>\n",
       "      <th>BeneID</th>\n",
       "      <th>DOB</th>\n",
       "      <th>DOD</th>\n",
       "      <th>Gender</th>\n",
       "      <th>Race</th>\n",
       "      <th>State</th>\n",
       "      <th>County</th>\n",
       "      <th>NoOfMonths_PartACov</th>\n",
       "      <th>NoOfMonths_PartBCov</th>\n",
       "      <th>IPAnnualReimbursementAmt</th>\n",
       "      <th>...</th>\n",
       "      <th>ChronicCond_KidneyDisease_1</th>\n",
       "      <th>ChronicCond_Cancer_1</th>\n",
       "      <th>ChronicCond_ObstrPulmonary_1</th>\n",
       "      <th>ChronicCond_Depression_1</th>\n",
       "      <th>ChronicCond_Diabetes_1</th>\n",
       "      <th>ChronicCond_IschemicHeart_1</th>\n",
       "      <th>ChronicCond_Osteoporasis_1</th>\n",
       "      <th>ChronicCond_rheumatoidarthritis_1</th>\n",
       "      <th>ChronicCond_stroke_1</th>\n",
       "      <th>RenalDiseaseIndicator_Y</th>\n",
       "    </tr>\n",
       "  </thead>\n",
       "  <tbody>\n",
       "    <tr>\n",
       "      <th>0</th>\n",
       "      <td>BENE11001</td>\n",
       "      <td>1943-01-01</td>\n",
       "      <td>NaN</td>\n",
       "      <td>1</td>\n",
       "      <td>1</td>\n",
       "      <td>39</td>\n",
       "      <td>230</td>\n",
       "      <td>12</td>\n",
       "      <td>12</td>\n",
       "      <td>36000</td>\n",
       "      <td>...</td>\n",
       "      <td>1</td>\n",
       "      <td>0</td>\n",
       "      <td>0</td>\n",
       "      <td>1</td>\n",
       "      <td>1</td>\n",
       "      <td>1</td>\n",
       "      <td>0</td>\n",
       "      <td>1</td>\n",
       "      <td>1</td>\n",
       "      <td>0</td>\n",
       "    </tr>\n",
       "    <tr>\n",
       "      <th>1</th>\n",
       "      <td>BENE11002</td>\n",
       "      <td>1936-09-01</td>\n",
       "      <td>NaN</td>\n",
       "      <td>2</td>\n",
       "      <td>1</td>\n",
       "      <td>39</td>\n",
       "      <td>280</td>\n",
       "      <td>12</td>\n",
       "      <td>12</td>\n",
       "      <td>0</td>\n",
       "      <td>...</td>\n",
       "      <td>0</td>\n",
       "      <td>0</td>\n",
       "      <td>0</td>\n",
       "      <td>0</td>\n",
       "      <td>0</td>\n",
       "      <td>0</td>\n",
       "      <td>0</td>\n",
       "      <td>0</td>\n",
       "      <td>0</td>\n",
       "      <td>0</td>\n",
       "    </tr>\n",
       "    <tr>\n",
       "      <th>2</th>\n",
       "      <td>BENE11003</td>\n",
       "      <td>1936-08-01</td>\n",
       "      <td>NaN</td>\n",
       "      <td>1</td>\n",
       "      <td>1</td>\n",
       "      <td>52</td>\n",
       "      <td>590</td>\n",
       "      <td>12</td>\n",
       "      <td>12</td>\n",
       "      <td>0</td>\n",
       "      <td>...</td>\n",
       "      <td>0</td>\n",
       "      <td>0</td>\n",
       "      <td>0</td>\n",
       "      <td>0</td>\n",
       "      <td>0</td>\n",
       "      <td>1</td>\n",
       "      <td>0</td>\n",
       "      <td>0</td>\n",
       "      <td>0</td>\n",
       "      <td>0</td>\n",
       "    </tr>\n",
       "    <tr>\n",
       "      <th>3</th>\n",
       "      <td>BENE11004</td>\n",
       "      <td>1922-07-01</td>\n",
       "      <td>NaN</td>\n",
       "      <td>1</td>\n",
       "      <td>1</td>\n",
       "      <td>39</td>\n",
       "      <td>270</td>\n",
       "      <td>12</td>\n",
       "      <td>12</td>\n",
       "      <td>0</td>\n",
       "      <td>...</td>\n",
       "      <td>0</td>\n",
       "      <td>0</td>\n",
       "      <td>0</td>\n",
       "      <td>0</td>\n",
       "      <td>1</td>\n",
       "      <td>1</td>\n",
       "      <td>1</td>\n",
       "      <td>1</td>\n",
       "      <td>0</td>\n",
       "      <td>0</td>\n",
       "    </tr>\n",
       "    <tr>\n",
       "      <th>4</th>\n",
       "      <td>BENE11005</td>\n",
       "      <td>1935-09-01</td>\n",
       "      <td>NaN</td>\n",
       "      <td>1</td>\n",
       "      <td>1</td>\n",
       "      <td>24</td>\n",
       "      <td>680</td>\n",
       "      <td>12</td>\n",
       "      <td>12</td>\n",
       "      <td>0</td>\n",
       "      <td>...</td>\n",
       "      <td>0</td>\n",
       "      <td>0</td>\n",
       "      <td>1</td>\n",
       "      <td>0</td>\n",
       "      <td>1</td>\n",
       "      <td>0</td>\n",
       "      <td>0</td>\n",
       "      <td>0</td>\n",
       "      <td>0</td>\n",
       "      <td>0</td>\n",
       "    </tr>\n",
       "  </tbody>\n",
       "</table>\n",
       "<p>5 rows × 25 columns</p>\n",
       "</div>"
      ],
      "text/plain": [
       "      BeneID         DOB  DOD  Gender  Race  State  County  \\\n",
       "0  BENE11001  1943-01-01  NaN       1     1     39     230   \n",
       "1  BENE11002  1936-09-01  NaN       2     1     39     280   \n",
       "2  BENE11003  1936-08-01  NaN       1     1     52     590   \n",
       "3  BENE11004  1922-07-01  NaN       1     1     39     270   \n",
       "4  BENE11005  1935-09-01  NaN       1     1     24     680   \n",
       "\n",
       "   NoOfMonths_PartACov  NoOfMonths_PartBCov  IPAnnualReimbursementAmt  ...  \\\n",
       "0                   12                   12                     36000  ...   \n",
       "1                   12                   12                         0  ...   \n",
       "2                   12                   12                         0  ...   \n",
       "3                   12                   12                         0  ...   \n",
       "4                   12                   12                         0  ...   \n",
       "\n",
       "   ChronicCond_KidneyDisease_1  ChronicCond_Cancer_1  \\\n",
       "0                            1                     0   \n",
       "1                            0                     0   \n",
       "2                            0                     0   \n",
       "3                            0                     0   \n",
       "4                            0                     0   \n",
       "\n",
       "   ChronicCond_ObstrPulmonary_1  ChronicCond_Depression_1  \\\n",
       "0                             0                         1   \n",
       "1                             0                         0   \n",
       "2                             0                         0   \n",
       "3                             0                         0   \n",
       "4                             1                         0   \n",
       "\n",
       "   ChronicCond_Diabetes_1  ChronicCond_IschemicHeart_1  \\\n",
       "0                       1                            1   \n",
       "1                       0                            0   \n",
       "2                       0                            1   \n",
       "3                       1                            1   \n",
       "4                       1                            0   \n",
       "\n",
       "   ChronicCond_Osteoporasis_1  ChronicCond_rheumatoidarthritis_1  \\\n",
       "0                           0                                  1   \n",
       "1                           0                                  0   \n",
       "2                           0                                  0   \n",
       "3                           1                                  1   \n",
       "4                           0                                  0   \n",
       "\n",
       "   ChronicCond_stroke_1  RenalDiseaseIndicator_Y  \n",
       "0                     1                        0  \n",
       "1                     0                        0  \n",
       "2                     0                        0  \n",
       "3                     0                        0  \n",
       "4                     0                        0  \n",
       "\n",
       "[5 rows x 25 columns]"
      ]
     },
     "execution_count": 16,
     "metadata": {},
     "output_type": "execute_result"
    }
   ],
   "source": [
    "df_train_ben_p.head()"
   ]
  },
  {
   "cell_type": "markdown",
   "id": "85e3dbda",
   "metadata": {},
   "source": [
    "## 3) Merge in-patient data with benefit data"
   ]
  },
  {
   "cell_type": "code",
   "execution_count": 17,
   "id": "c46d0bd5",
   "metadata": {},
   "outputs": [],
   "source": [
    "## Merge inpatient data with benefits data\n",
    "df_train_inp_m = pd.merge(df_train_inp, df_train_ben_p, on='BeneID', how='inner')"
   ]
  },
  {
   "cell_type": "code",
   "execution_count": 18,
   "id": "3762a3f7",
   "metadata": {},
   "outputs": [
    {
     "data": {
      "text/html": [
       "<div>\n",
       "<style scoped>\n",
       "    .dataframe tbody tr th:only-of-type {\n",
       "        vertical-align: middle;\n",
       "    }\n",
       "\n",
       "    .dataframe tbody tr th {\n",
       "        vertical-align: top;\n",
       "    }\n",
       "\n",
       "    .dataframe thead th {\n",
       "        text-align: right;\n",
       "    }\n",
       "</style>\n",
       "<table border=\"1\" class=\"dataframe\">\n",
       "  <thead>\n",
       "    <tr style=\"text-align: right;\">\n",
       "      <th></th>\n",
       "      <th>BeneID</th>\n",
       "      <th>ClaimID</th>\n",
       "      <th>ClaimStartDt</th>\n",
       "      <th>Provider</th>\n",
       "      <th>InscClaimAmtReimbursed</th>\n",
       "      <th>AttendingPhysician</th>\n",
       "      <th>OperatingPhysician</th>\n",
       "      <th>OtherPhysician</th>\n",
       "      <th>ClmAdmitDiagnosisCode</th>\n",
       "      <th>DeductibleAmtPaid</th>\n",
       "      <th>...</th>\n",
       "      <th>ChronicCond_KidneyDisease_1</th>\n",
       "      <th>ChronicCond_Cancer_1</th>\n",
       "      <th>ChronicCond_ObstrPulmonary_1</th>\n",
       "      <th>ChronicCond_Depression_1</th>\n",
       "      <th>ChronicCond_Diabetes_1</th>\n",
       "      <th>ChronicCond_IschemicHeart_1</th>\n",
       "      <th>ChronicCond_Osteoporasis_1</th>\n",
       "      <th>ChronicCond_rheumatoidarthritis_1</th>\n",
       "      <th>ChronicCond_stroke_1</th>\n",
       "      <th>RenalDiseaseIndicator_Y</th>\n",
       "    </tr>\n",
       "  </thead>\n",
       "  <tbody>\n",
       "    <tr>\n",
       "      <th>0</th>\n",
       "      <td>BENE11001</td>\n",
       "      <td>CLM46614</td>\n",
       "      <td>2009-04-12</td>\n",
       "      <td>PRV55912</td>\n",
       "      <td>26000</td>\n",
       "      <td>PHY390922</td>\n",
       "      <td>None</td>\n",
       "      <td>None</td>\n",
       "      <td>1.0</td>\n",
       "      <td>1068.0</td>\n",
       "      <td>...</td>\n",
       "      <td>1</td>\n",
       "      <td>0</td>\n",
       "      <td>0</td>\n",
       "      <td>1</td>\n",
       "      <td>1</td>\n",
       "      <td>1</td>\n",
       "      <td>0</td>\n",
       "      <td>1</td>\n",
       "      <td>1</td>\n",
       "      <td>0</td>\n",
       "    </tr>\n",
       "    <tr>\n",
       "      <th>1</th>\n",
       "      <td>BENE11001</td>\n",
       "      <td>CLM66048</td>\n",
       "      <td>2009-08-31</td>\n",
       "      <td>PRV55907</td>\n",
       "      <td>5000</td>\n",
       "      <td>PHY318495</td>\n",
       "      <td>PHY318495</td>\n",
       "      <td>None</td>\n",
       "      <td>1.0</td>\n",
       "      <td>1068.0</td>\n",
       "      <td>...</td>\n",
       "      <td>1</td>\n",
       "      <td>0</td>\n",
       "      <td>0</td>\n",
       "      <td>1</td>\n",
       "      <td>1</td>\n",
       "      <td>1</td>\n",
       "      <td>0</td>\n",
       "      <td>1</td>\n",
       "      <td>1</td>\n",
       "      <td>0</td>\n",
       "    </tr>\n",
       "    <tr>\n",
       "      <th>2</th>\n",
       "      <td>BENE11001</td>\n",
       "      <td>CLM68358</td>\n",
       "      <td>2009-09-17</td>\n",
       "      <td>PRV56046</td>\n",
       "      <td>5000</td>\n",
       "      <td>PHY372395</td>\n",
       "      <td>None</td>\n",
       "      <td>PHY324689</td>\n",
       "      <td>1.0</td>\n",
       "      <td>1068.0</td>\n",
       "      <td>...</td>\n",
       "      <td>1</td>\n",
       "      <td>0</td>\n",
       "      <td>0</td>\n",
       "      <td>1</td>\n",
       "      <td>1</td>\n",
       "      <td>1</td>\n",
       "      <td>0</td>\n",
       "      <td>1</td>\n",
       "      <td>1</td>\n",
       "      <td>0</td>\n",
       "    </tr>\n",
       "    <tr>\n",
       "      <th>3</th>\n",
       "      <td>BENE11011</td>\n",
       "      <td>CLM38412</td>\n",
       "      <td>2009-02-14</td>\n",
       "      <td>PRV52405</td>\n",
       "      <td>5000</td>\n",
       "      <td>PHY369659</td>\n",
       "      <td>PHY392961</td>\n",
       "      <td>PHY349768</td>\n",
       "      <td>1.0</td>\n",
       "      <td>1068.0</td>\n",
       "      <td>...</td>\n",
       "      <td>1</td>\n",
       "      <td>0</td>\n",
       "      <td>0</td>\n",
       "      <td>1</td>\n",
       "      <td>1</td>\n",
       "      <td>0</td>\n",
       "      <td>0</td>\n",
       "      <td>1</td>\n",
       "      <td>1</td>\n",
       "      <td>0</td>\n",
       "    </tr>\n",
       "    <tr>\n",
       "      <th>4</th>\n",
       "      <td>BENE11014</td>\n",
       "      <td>CLM63689</td>\n",
       "      <td>2009-08-13</td>\n",
       "      <td>PRV56614</td>\n",
       "      <td>10000</td>\n",
       "      <td>PHY379376</td>\n",
       "      <td>PHY398258</td>\n",
       "      <td>None</td>\n",
       "      <td>1.0</td>\n",
       "      <td>1068.0</td>\n",
       "      <td>...</td>\n",
       "      <td>1</td>\n",
       "      <td>0</td>\n",
       "      <td>1</td>\n",
       "      <td>1</td>\n",
       "      <td>0</td>\n",
       "      <td>1</td>\n",
       "      <td>0</td>\n",
       "      <td>0</td>\n",
       "      <td>0</td>\n",
       "      <td>1</td>\n",
       "    </tr>\n",
       "  </tbody>\n",
       "</table>\n",
       "<p>5 rows × 65 columns</p>\n",
       "</div>"
      ],
      "text/plain": [
       "      BeneID   ClaimID ClaimStartDt  Provider  InscClaimAmtReimbursed  \\\n",
       "0  BENE11001  CLM46614   2009-04-12  PRV55912                   26000   \n",
       "1  BENE11001  CLM66048   2009-08-31  PRV55907                    5000   \n",
       "2  BENE11001  CLM68358   2009-09-17  PRV56046                    5000   \n",
       "3  BENE11011  CLM38412   2009-02-14  PRV52405                    5000   \n",
       "4  BENE11014  CLM63689   2009-08-13  PRV56614                   10000   \n",
       "\n",
       "  AttendingPhysician OperatingPhysician OtherPhysician  ClmAdmitDiagnosisCode  \\\n",
       "0          PHY390922               None           None                    1.0   \n",
       "1          PHY318495          PHY318495           None                    1.0   \n",
       "2          PHY372395               None      PHY324689                    1.0   \n",
       "3          PHY369659          PHY392961      PHY349768                    1.0   \n",
       "4          PHY379376          PHY398258           None                    1.0   \n",
       "\n",
       "   DeductibleAmtPaid  ... ChronicCond_KidneyDisease_1  ChronicCond_Cancer_1  \\\n",
       "0             1068.0  ...                           1                     0   \n",
       "1             1068.0  ...                           1                     0   \n",
       "2             1068.0  ...                           1                     0   \n",
       "3             1068.0  ...                           1                     0   \n",
       "4             1068.0  ...                           1                     0   \n",
       "\n",
       "   ChronicCond_ObstrPulmonary_1  ChronicCond_Depression_1  \\\n",
       "0                             0                         1   \n",
       "1                             0                         1   \n",
       "2                             0                         1   \n",
       "3                             0                         1   \n",
       "4                             1                         1   \n",
       "\n",
       "   ChronicCond_Diabetes_1  ChronicCond_IschemicHeart_1  \\\n",
       "0                       1                            1   \n",
       "1                       1                            1   \n",
       "2                       1                            1   \n",
       "3                       1                            0   \n",
       "4                       0                            1   \n",
       "\n",
       "   ChronicCond_Osteoporasis_1  ChronicCond_rheumatoidarthritis_1  \\\n",
       "0                           0                                  1   \n",
       "1                           0                                  1   \n",
       "2                           0                                  1   \n",
       "3                           0                                  1   \n",
       "4                           0                                  0   \n",
       "\n",
       "   ChronicCond_stroke_1  RenalDiseaseIndicator_Y  \n",
       "0                     1                        0  \n",
       "1                     1                        0  \n",
       "2                     1                        0  \n",
       "3                     1                        0  \n",
       "4                     0                        1  \n",
       "\n",
       "[5 rows x 65 columns]"
      ]
     },
     "execution_count": 18,
     "metadata": {},
     "output_type": "execute_result"
    }
   ],
   "source": [
    "df_train_inp_m.head()"
   ]
  },
  {
   "cell_type": "markdown",
   "id": "f16ae052",
   "metadata": {},
   "source": [
    "## 4) Assign model label\n",
    "\n",
    "Note fraud label is that provider level, not claim level"
   ]
  },
  {
   "cell_type": "code",
   "execution_count": 19,
   "id": "87b069f6",
   "metadata": {},
   "outputs": [],
   "source": [
    "label_encoder = preprocessing.LabelEncoder()\n",
    "df_train_fra['PotentialFraud'] = label_encoder.fit_transform(df_train_fra['PotentialFraud'])\n",
    "df_train_inp_m = pd.merge(df_train_inp_m, df_train_fra, on='Provider', how='inner')"
   ]
  },
  {
   "cell_type": "code",
   "execution_count": 20,
   "id": "f2c2f022",
   "metadata": {},
   "outputs": [
    {
     "data": {
      "text/html": [
       "<div>\n",
       "<style scoped>\n",
       "    .dataframe tbody tr th:only-of-type {\n",
       "        vertical-align: middle;\n",
       "    }\n",
       "\n",
       "    .dataframe tbody tr th {\n",
       "        vertical-align: top;\n",
       "    }\n",
       "\n",
       "    .dataframe thead th {\n",
       "        text-align: right;\n",
       "    }\n",
       "</style>\n",
       "<table border=\"1\" class=\"dataframe\">\n",
       "  <thead>\n",
       "    <tr style=\"text-align: right;\">\n",
       "      <th></th>\n",
       "      <th>BeneID</th>\n",
       "      <th>ClaimID</th>\n",
       "      <th>ClaimStartDt</th>\n",
       "      <th>Provider</th>\n",
       "      <th>InscClaimAmtReimbursed</th>\n",
       "      <th>AttendingPhysician</th>\n",
       "      <th>OperatingPhysician</th>\n",
       "      <th>OtherPhysician</th>\n",
       "      <th>ClmAdmitDiagnosisCode</th>\n",
       "      <th>DeductibleAmtPaid</th>\n",
       "      <th>...</th>\n",
       "      <th>ChronicCond_Cancer_1</th>\n",
       "      <th>ChronicCond_ObstrPulmonary_1</th>\n",
       "      <th>ChronicCond_Depression_1</th>\n",
       "      <th>ChronicCond_Diabetes_1</th>\n",
       "      <th>ChronicCond_IschemicHeart_1</th>\n",
       "      <th>ChronicCond_Osteoporasis_1</th>\n",
       "      <th>ChronicCond_rheumatoidarthritis_1</th>\n",
       "      <th>ChronicCond_stroke_1</th>\n",
       "      <th>RenalDiseaseIndicator_Y</th>\n",
       "      <th>PotentialFraud</th>\n",
       "    </tr>\n",
       "  </thead>\n",
       "  <tbody>\n",
       "    <tr>\n",
       "      <th>0</th>\n",
       "      <td>BENE11001</td>\n",
       "      <td>CLM46614</td>\n",
       "      <td>2009-04-12</td>\n",
       "      <td>PRV55912</td>\n",
       "      <td>26000</td>\n",
       "      <td>PHY390922</td>\n",
       "      <td>None</td>\n",
       "      <td>None</td>\n",
       "      <td>1.0</td>\n",
       "      <td>1068.0</td>\n",
       "      <td>...</td>\n",
       "      <td>0</td>\n",
       "      <td>0</td>\n",
       "      <td>1</td>\n",
       "      <td>1</td>\n",
       "      <td>1</td>\n",
       "      <td>0</td>\n",
       "      <td>1</td>\n",
       "      <td>1</td>\n",
       "      <td>0</td>\n",
       "      <td>1</td>\n",
       "    </tr>\n",
       "    <tr>\n",
       "      <th>1</th>\n",
       "      <td>BENE17521</td>\n",
       "      <td>CLM34721</td>\n",
       "      <td>2009-01-20</td>\n",
       "      <td>PRV55912</td>\n",
       "      <td>19000</td>\n",
       "      <td>PHY349293</td>\n",
       "      <td>PHY370861</td>\n",
       "      <td>PHY363291</td>\n",
       "      <td>1.0</td>\n",
       "      <td>1068.0</td>\n",
       "      <td>...</td>\n",
       "      <td>0</td>\n",
       "      <td>1</td>\n",
       "      <td>0</td>\n",
       "      <td>0</td>\n",
       "      <td>1</td>\n",
       "      <td>0</td>\n",
       "      <td>0</td>\n",
       "      <td>0</td>\n",
       "      <td>0</td>\n",
       "      <td>1</td>\n",
       "    </tr>\n",
       "  </tbody>\n",
       "</table>\n",
       "<p>2 rows × 66 columns</p>\n",
       "</div>"
      ],
      "text/plain": [
       "      BeneID   ClaimID ClaimStartDt  Provider  InscClaimAmtReimbursed  \\\n",
       "0  BENE11001  CLM46614   2009-04-12  PRV55912                   26000   \n",
       "1  BENE17521  CLM34721   2009-01-20  PRV55912                   19000   \n",
       "\n",
       "  AttendingPhysician OperatingPhysician OtherPhysician  ClmAdmitDiagnosisCode  \\\n",
       "0          PHY390922               None           None                    1.0   \n",
       "1          PHY349293          PHY370861      PHY363291                    1.0   \n",
       "\n",
       "   DeductibleAmtPaid  ... ChronicCond_Cancer_1  ChronicCond_ObstrPulmonary_1  \\\n",
       "0             1068.0  ...                    0                             0   \n",
       "1             1068.0  ...                    0                             1   \n",
       "\n",
       "   ChronicCond_Depression_1  ChronicCond_Diabetes_1  \\\n",
       "0                         1                       1   \n",
       "1                         0                       0   \n",
       "\n",
       "   ChronicCond_IschemicHeart_1  ChronicCond_Osteoporasis_1  \\\n",
       "0                            1                           0   \n",
       "1                            1                           0   \n",
       "\n",
       "   ChronicCond_rheumatoidarthritis_1  ChronicCond_stroke_1  \\\n",
       "0                                  1                     1   \n",
       "1                                  0                     0   \n",
       "\n",
       "   RenalDiseaseIndicator_Y  PotentialFraud  \n",
       "0                        0               1  \n",
       "1                        0               1  \n",
       "\n",
       "[2 rows x 66 columns]"
      ]
     },
     "execution_count": 20,
     "metadata": {},
     "output_type": "execute_result"
    }
   ],
   "source": [
    "df_train_inp_m.head(2)"
   ]
  },
  {
   "cell_type": "markdown",
   "id": "597523b3",
   "metadata": {},
   "source": [
    "----\n",
    "# Step 2 Build graph features\n",
    "Process in-patient data, including creating labels"
   ]
  },
  {
   "cell_type": "markdown",
   "id": "87c4a488",
   "metadata": {},
   "source": [
    "## 1) Create graph from dataframe:  BenefitID --> ClaimID"
   ]
  },
  {
   "cell_type": "code",
   "execution_count": 21,
   "id": "7727028a",
   "metadata": {},
   "outputs": [],
   "source": [
    "G1 = Graph.DataFrame(df_train_inp_m[['BeneID', 'ClaimID']], directed=False)"
   ]
  },
  {
   "cell_type": "markdown",
   "id": "b6dfc026",
   "metadata": {},
   "source": [
    "### Visualise the graph"
   ]
  },
  {
   "cell_type": "code",
   "execution_count": 22,
   "id": "74cf7d2b",
   "metadata": {},
   "outputs": [],
   "source": [
    "# ## Visualise the graph\n",
    "# out_fig_name = \"G1.eps\"\n",
    "\n",
    "# visual_style = {}\n",
    "\n",
    "# # Define colors used for outdegree visualization\n",
    "# colours = ['#fecc5c', '#a31a1c']\n",
    "\n",
    "# # Set bbox and margin\n",
    "# visual_style[\"bbox\"] = (3000,3000)\n",
    "# visual_style[\"margin\"] = 17\n",
    "\n",
    "# # Set vertex colours\n",
    "# visual_style[\"vertex_color\"] = 'grey'\n",
    "\n",
    "# # Set vertex size\n",
    "# visual_style[\"vertex_size\"] = 20\n",
    "\n",
    "# # Set vertex lable size\n",
    "# visual_style[\"vertex_label_size\"] = 8\n",
    "\n",
    "# # Don't curve the edges\n",
    "# visual_style[\"edge_curved\"] = False\n",
    "\n",
    "# # Set the layout\n",
    "# my_layout = G1.layout_fruchterman_reingold()\n",
    "# visual_style[\"layout\"] = my_layout\n",
    "\n",
    "# # Plot the graph\n",
    "# plot(G1, out_fig_name, **visual_style)"
   ]
  },
  {
   "cell_type": "markdown",
   "id": "a8ec1580",
   "metadata": {},
   "source": [
    "### Analyse the graph"
   ]
  },
  {
   "cell_type": "code",
   "execution_count": 90,
   "id": "43b8fd30",
   "metadata": {},
   "outputs": [
    {
     "name": "stdout",
     "output_type": "stream",
     "text": [
      "Number of vertices: 71763\n",
      "Number of edges: 40474\n",
      "Density of the graph: 1.5718496520735806e-05\n"
     ]
    }
   ],
   "source": [
    "## Analyse the graph\n",
    "print(\"Number of vertices:\", G1.vcount())\n",
    "print(\"Number of edges:\", G1.ecount())\n",
    "print(\"Density of the graph:\", 2*G1.ecount()/(G1.vcount()*(G1.vcount()-1)))"
   ]
  },
  {
   "cell_type": "code",
   "execution_count": 91,
   "id": "0de52ca6",
   "metadata": {},
   "outputs": [
    {
     "name": "stdout",
     "output_type": "stream",
     "text": [
      "Average degree: 1.1279907473210429\n",
      "Maximum degree: 8\n",
      "Vertex ID with the maximum degree: 7805\n"
     ]
    }
   ],
   "source": [
    "degrees = []\n",
    "total = 0\n",
    "\n",
    "n_vertices = G1.vcount()\n",
    "\n",
    "for n in range(n_vertices):\n",
    "    neighbours = G1.neighbors(n, mode='ALL')\n",
    "    total += len(neighbours)\n",
    "    degrees.append(len(neighbours))\n",
    "    \n",
    "print(\"Average degree:\", total/n_vertices)\n",
    "print(\"Maximum degree:\", max(degrees))\n",
    "print(\"Vertex ID with the maximum degree:\", degrees.index(max(degrees)))"
   ]
  },
  {
   "cell_type": "code",
   "execution_count": 92,
   "id": "6d54ed02",
   "metadata": {},
   "outputs": [
    {
     "name": "stdout",
     "output_type": "stream",
     "text": [
      "Degree having the maximum number of vertices: 1\n",
      "Number of vertices having the most abundant degree: 64755\n"
     ]
    },
    {
     "data": {
      "image/png": "[encoded data removed]",
      "text/plain": [
       "<Figure size 2880x720 with 1 Axes>"
      ]
     },
     "metadata": {
      "needs_background": "light"
     },
     "output_type": "display_data"
    },
    {
     "data": {
      "text/plain": [
       "<Figure size 432x288 with 0 Axes>"
      ]
     },
     "metadata": {},
     "output_type": "display_data"
    }
   ],
   "source": [
    "plt.rcParams.update({'font.size': 25})\n",
    "\n",
    "x = [x for x in range(max(degrees)+1)]\n",
    "degree_counts = [0 for x in range(9)]\n",
    "\n",
    "for i in degrees:\n",
    "    degree_counts[i] += 1\n",
    "\n",
    "print(\"Degree having the maximum number of vertices:\", degree_counts.index(max(degree_counts)))\n",
    "print(\"Number of vertices having the most abundant degree:\", max(degree_counts))\n",
    "\n",
    "plt.figure(figsize=(40,10))\n",
    "plt.plot(x, degree_counts, linewidth=3.0)\n",
    "plt.ylabel('Number of vertices having the given degree')\n",
    "plt.xlabel('Degree')\n",
    "plt.title('Degree Distribution of Vertices in G1')\n",
    "\n",
    "plt.xlim(0,10)\n",
    "plt.xticks(np.arange(min(x), max(x)+1, 1.0))\n",
    "plt.grid(True)\n",
    "plt.savefig('degree_distribution.png', bbox_inches='tight')\n",
    "plt.show()\n",
    "plt.draw()"
   ]
  },
  {
   "cell_type": "code",
   "execution_count": 93,
   "id": "92a157a9",
   "metadata": {},
   "outputs": [
    {
     "name": "stdout",
     "output_type": "stream",
     "text": [
      "Average number of triangles: 0.0\n",
      "Maximum number of triangles: 0\n",
      "Vertex ID with the maximum number of triangles: 0\n"
     ]
    }
   ],
   "source": [
    "cliques = G1.cliques(min=3, max=3)\n",
    "triangle_count = [0] * G1.vcount()\n",
    "for i, j, k in cliques:\n",
    "    triangle_count[i] += 1\n",
    "    triangle_count[j] += 1\n",
    "    triangle_count[k] += 1\n",
    "\n",
    "print(\"Average number of triangles:\", sum(triangle_count)/G1.vcount())\n",
    "print(\"Maximum number of triangles:\", max(triangle_count))\n",
    "print(\"Vertex ID with the maximum number of triangles:\", triangle_count.index(max(triangle_count)))"
   ]
  },
  {
   "cell_type": "code",
   "execution_count": 87,
   "id": "1ad528c3",
   "metadata": {},
   "outputs": [
    {
     "name": "stdout",
     "output_type": "stream",
     "text": [
      "Diameter of the graph: 2\n"
     ]
    }
   ],
   "source": [
    "print(\"Diameter of the graph:\", G1.diameter())"
   ]
  },
  {
   "cell_type": "code",
   "execution_count": 88,
   "id": "e0620dfc",
   "metadata": {},
   "outputs": [
    {
     "name": "stdout",
     "output_type": "stream",
     "text": [
      "Assortativity of the graph: -0.17829490295257414\n"
     ]
    }
   ],
   "source": [
    "def assortativity(graph, degrees=None):\n",
    "    \n",
    "    if degrees is None: degrees = graph.degree()\n",
    "    degrees_sq = [deg**2 for deg in degrees]\n",
    " \n",
    "    m = float(graph.ecount())\n",
    "    num1, num2, den1 = 0, 0, 0\n",
    "    for source, target in graph.get_edgelist():\n",
    "        num1 += degrees[source] * degrees[target]\n",
    "        num2 += degrees[source] + degrees[target]\n",
    "        den1 += degrees_sq[source] + degrees_sq[target]\n",
    " \n",
    "    num1 /= m\n",
    "    den1 /= 2*m\n",
    "    num2 = (num2 / (2*m)) ** 2\n",
    " \n",
    "    return (num1 - num2) / (den1 - num2)\n",
    "\n",
    "print(\"Assortativity of the graph:\", assortativity(G1))"
   ]
  },
  {
   "cell_type": "code",
   "execution_count": 67,
   "id": "8581adfb",
   "metadata": {},
   "outputs": [
    {
     "data": {
      "text/html": [
       "<div>\n",
       "<style scoped>\n",
       "    .dataframe tbody tr th:only-of-type {\n",
       "        vertical-align: middle;\n",
       "    }\n",
       "\n",
       "    .dataframe tbody tr th {\n",
       "        vertical-align: top;\n",
       "    }\n",
       "\n",
       "    .dataframe thead th {\n",
       "        text-align: right;\n",
       "    }\n",
       "</style>\n",
       "<table border=\"1\" class=\"dataframe\">\n",
       "  <thead>\n",
       "    <tr style=\"text-align: right;\">\n",
       "      <th></th>\n",
       "      <th>BeneID</th>\n",
       "      <th>ClaimID</th>\n",
       "      <th>ClaimStartDt</th>\n",
       "      <th>Provider</th>\n",
       "      <th>InscClaimAmtReimbursed</th>\n",
       "      <th>AttendingPhysician</th>\n",
       "      <th>OperatingPhysician</th>\n",
       "      <th>OtherPhysician</th>\n",
       "      <th>ClmAdmitDiagnosisCode</th>\n",
       "      <th>DeductibleAmtPaid</th>\n",
       "      <th>...</th>\n",
       "      <th>ChronicCond_Cancer_1</th>\n",
       "      <th>ChronicCond_ObstrPulmonary_1</th>\n",
       "      <th>ChronicCond_Depression_1</th>\n",
       "      <th>ChronicCond_Diabetes_1</th>\n",
       "      <th>ChronicCond_IschemicHeart_1</th>\n",
       "      <th>ChronicCond_Osteoporasis_1</th>\n",
       "      <th>ChronicCond_rheumatoidarthritis_1</th>\n",
       "      <th>ChronicCond_stroke_1</th>\n",
       "      <th>RenalDiseaseIndicator_Y</th>\n",
       "      <th>PotentialFraud</th>\n",
       "    </tr>\n",
       "  </thead>\n",
       "  <tbody>\n",
       "    <tr>\n",
       "      <th>28039</th>\n",
       "      <td>BENE100075</td>\n",
       "      <td>CLM31820</td>\n",
       "      <td>2008-12-31</td>\n",
       "      <td>PRV52723</td>\n",
       "      <td>6000</td>\n",
       "      <td>PHY381381</td>\n",
       "      <td>PHY397516</td>\n",
       "      <td>None</td>\n",
       "      <td>1.0</td>\n",
       "      <td>1068.0</td>\n",
       "      <td>...</td>\n",
       "      <td>0</td>\n",
       "      <td>1</td>\n",
       "      <td>1</td>\n",
       "      <td>1</td>\n",
       "      <td>1</td>\n",
       "      <td>1</td>\n",
       "      <td>1</td>\n",
       "      <td>0</td>\n",
       "      <td>1</td>\n",
       "      <td>0</td>\n",
       "    </tr>\n",
       "    <tr>\n",
       "      <th>28476</th>\n",
       "      <td>BENE100075</td>\n",
       "      <td>CLM33847</td>\n",
       "      <td>2009-01-14</td>\n",
       "      <td>PRV52634</td>\n",
       "      <td>5000</td>\n",
       "      <td>PHY350551</td>\n",
       "      <td>None</td>\n",
       "      <td>None</td>\n",
       "      <td>1.0</td>\n",
       "      <td>1068.0</td>\n",
       "      <td>...</td>\n",
       "      <td>0</td>\n",
       "      <td>1</td>\n",
       "      <td>1</td>\n",
       "      <td>1</td>\n",
       "      <td>1</td>\n",
       "      <td>1</td>\n",
       "      <td>1</td>\n",
       "      <td>0</td>\n",
       "      <td>1</td>\n",
       "      <td>0</td>\n",
       "    </tr>\n",
       "    <tr>\n",
       "      <th>39829</th>\n",
       "      <td>BENE100075</td>\n",
       "      <td>CLM37126</td>\n",
       "      <td>2009-02-05</td>\n",
       "      <td>PRV52576</td>\n",
       "      <td>24000</td>\n",
       "      <td>PHY337457</td>\n",
       "      <td>PHY398470</td>\n",
       "      <td>None</td>\n",
       "      <td>1.0</td>\n",
       "      <td>1068.0</td>\n",
       "      <td>...</td>\n",
       "      <td>0</td>\n",
       "      <td>1</td>\n",
       "      <td>1</td>\n",
       "      <td>1</td>\n",
       "      <td>1</td>\n",
       "      <td>1</td>\n",
       "      <td>1</td>\n",
       "      <td>0</td>\n",
       "      <td>1</td>\n",
       "      <td>0</td>\n",
       "    </tr>\n",
       "  </tbody>\n",
       "</table>\n",
       "<p>3 rows × 66 columns</p>\n",
       "</div>"
      ],
      "text/plain": [
       "           BeneID   ClaimID ClaimStartDt  Provider  InscClaimAmtReimbursed  \\\n",
       "28039  BENE100075  CLM31820   2008-12-31  PRV52723                    6000   \n",
       "28476  BENE100075  CLM33847   2009-01-14  PRV52634                    5000   \n",
       "39829  BENE100075  CLM37126   2009-02-05  PRV52576                   24000   \n",
       "\n",
       "      AttendingPhysician OperatingPhysician OtherPhysician  \\\n",
       "28039          PHY381381          PHY397516           None   \n",
       "28476          PHY350551               None           None   \n",
       "39829          PHY337457          PHY398470           None   \n",
       "\n",
       "       ClmAdmitDiagnosisCode  DeductibleAmtPaid  ... ChronicCond_Cancer_1  \\\n",
       "28039                    1.0             1068.0  ...                    0   \n",
       "28476                    1.0             1068.0  ...                    0   \n",
       "39829                    1.0             1068.0  ...                    0   \n",
       "\n",
       "       ChronicCond_ObstrPulmonary_1  ChronicCond_Depression_1  \\\n",
       "28039                             1                         1   \n",
       "28476                             1                         1   \n",
       "39829                             1                         1   \n",
       "\n",
       "       ChronicCond_Diabetes_1  ChronicCond_IschemicHeart_1  \\\n",
       "28039                       1                            1   \n",
       "28476                       1                            1   \n",
       "39829                       1                            1   \n",
       "\n",
       "       ChronicCond_Osteoporasis_1  ChronicCond_rheumatoidarthritis_1  \\\n",
       "28039                           1                                  1   \n",
       "28476                           1                                  1   \n",
       "39829                           1                                  1   \n",
       "\n",
       "       ChronicCond_stroke_1  RenalDiseaseIndicator_Y  PotentialFraud  \n",
       "28039                     0                        1               0  \n",
       "28476                     0                        1               0  \n",
       "39829                     0                        1               0  \n",
       "\n",
       "[3 rows x 66 columns]"
      ]
     },
     "execution_count": 67,
     "metadata": {},
     "output_type": "execute_result"
    }
   ],
   "source": [
    "## Check a record\n",
    "t1 = df_train_inp_m[df_train_inp_m['BeneID'] == 'BENE100075']\n",
    "t1"
   ]
  },
  {
   "cell_type": "markdown",
   "id": "ca8d1cb0",
   "metadata": {},
   "source": [
    "This patient had 3 claims with different providers, attending physician etc."
   ]
  },
  {
   "cell_type": "markdown",
   "id": "d0c9c802",
   "metadata": {},
   "source": [
    "### To avoid model leakage, split the dataset into two time samples, and create two sets of graph features"
   ]
  },
  {
   "cell_type": "code",
   "execution_count": 91,
   "id": "a5a88178",
   "metadata": {},
   "outputs": [
    {
     "name": "stdout",
     "output_type": "stream",
     "text": [
      "(31780, 52)\n",
      "(8694, 65)\n"
     ]
    }
   ],
   "source": [
    "## Split the data by claim date\n",
    "df_train_inp_m_tr = df_train_inp_m[df_train_inp_m['ClaimStartDt'] < '2009-10-01'].drop('ClaimStartDt', axis=1)\n",
    "print(df_train_inp_m0_tr.shape) \n",
    "\n",
    "df_train_inp_m_te = df_train_inp_m[df_train_inp_m['ClaimStartDt'] >= '2009-10-01'].drop('ClaimStartDt', axis=1)\n",
    "print(df_train_inp_m_te.shape)"
   ]
  },
  {
   "cell_type": "markdown",
   "id": "3d15915d",
   "metadata": {},
   "source": [
    "### Construct features"
   ]
  },
  {
   "cell_type": "markdown",
   "id": "06d3c6aa",
   "metadata": {},
   "source": [
    "#### 1) Create graph from dataframe. BeneID -> ClaimID"
   ]
  },
  {
   "cell_type": "code",
   "execution_count": null,
   "id": "6e805069",
   "metadata": {},
   "outputs": [],
   "source": [
    "### Full graph\n",
    "G1 = Graph.DataFrame(df_train_inp_m[['BeneID', 'ClaimID']], directed=False)\n",
    "\n",
    "## degree\n",
    "degree1 = pd.DataFrame({'Node': G1.vs[\"name\"], 'g_degree_BeneID_ClaimID': G1.strength()})\n",
    "## closeness\n",
    "closeness1 = pd.DataFrame({'Node': G1.vs[\"name\"], 'g_closeness_BeneID_ClaimID': G1.closeness()})\n",
    "## infomap\n",
    "communities_infomap1 = pd.DataFrame({'Node': G1.vs[\"name\"], 'g_communities_infomap_BeneID_ClaimID': G1.community_infomap().membership})"
   ]
  },
  {
   "cell_type": "code",
   "execution_count": 81,
   "id": "3255e613",
   "metadata": {},
   "outputs": [],
   "source": [
    "### Graph only use training (earlier) data \n",
    "G1_tr = Graph.DataFrame(df_train_inp_m_tr[['BeneID', 'ClaimID']], directed=False)\n",
    "\n",
    "## degree\n",
    "degree1_tr = pd.DataFrame({'Node': G1_tr.vs[\"name\"], 'g_degree_BeneID_ClaimID': G1_tr.strength()})\n",
    "## closeness\n",
    "closeness1_tr = pd.DataFrame({'Node': G1_tr.vs[\"name\"], 'g_closeness_BeneID_ClaimID': G1_tr.closeness()})\n",
    "## infomap\n",
    "communities_infomap1_tr = pd.DataFrame({'Node': G1_tr.vs[\"name\"], 'g_communities_infomap_BeneID_ClaimID': G1_tr.community_infomap().membership})"
   ]
  },
  {
   "cell_type": "markdown",
   "id": "8b39a977",
   "metadata": {},
   "source": [
    "#### 2) Create graph from dataframe. Provider -> ClaimID"
   ]
  },
  {
   "cell_type": "code",
   "execution_count": 28,
   "id": "aa1382cc",
   "metadata": {},
   "outputs": [],
   "source": [
    "G2 = Graph.DataFrame(df_train_inp_m[['Provider', 'ClaimID']], directed=False)\n",
    "\n",
    "## degree\n",
    "degree2 = pd.DataFrame({'Node': G2.vs[\"name\"], 'g_degree_Provider_ClaimID': G2.strength()})\n",
    "## closeness\n",
    "closeness2 = pd.DataFrame({'Node': G2.vs[\"name\"], 'g_closeness_Provider_ClaimID': G2.closeness()})\n",
    "## infomap\n",
    "communities_infomap2 = pd.DataFrame({'Node': G2.vs[\"name\"], 'g_communities_infomap_Provider_ClaimID': G2.community_infomap().membership})"
   ]
  },
  {
   "cell_type": "code",
   "execution_count": 84,
   "id": "64858ad4",
   "metadata": {},
   "outputs": [],
   "source": [
    "### Graph only use training (earlier) data \n",
    "G2_tr = Graph.DataFrame(df_train_inp_m_tr[['Provider', 'ClaimID']], directed=False)\n",
    "\n",
    "## degree\n",
    "degree2_tr = pd.DataFrame({'Node': G2_tr.vs[\"name\"], 'g_degree_Provider_ClaimID': G2_tr.strength()})\n",
    "## closeness\n",
    "closeness2_tr = pd.DataFrame({'Node': G2_tr.vs[\"name\"], 'g_closeness_Provider_ClaimID': G2_tr.closeness()})\n",
    "## infomap\n",
    "communities_infomap2_tr = pd.DataFrame({'Node': G2_tr.vs[\"name\"], 'g_communities_infomap_Provider_ClaimID': G2_tr.community_infomap().membership})"
   ]
  },
  {
   "cell_type": "markdown",
   "id": "adce1826",
   "metadata": {},
   "source": [
    "#### 3) Create graph from dataframe. Attending Physician  -> ClaimID"
   ]
  },
  {
   "cell_type": "code",
   "execution_count": 31,
   "id": "60a0bd89",
   "metadata": {},
   "outputs": [],
   "source": [
    "G3 = Graph.DataFrame(df_train_inp_m.loc[df_train_inp_m['AttendingPhysician'].notnull(),\n",
    "                                        ['AttendingPhysician', 'ClaimID']], directed=False)\n",
    "\n",
    "## degree\n",
    "degree3 = pd.DataFrame({'Node': G3.vs[\"name\"], 'g_degree_AttendingPhysician_ClaimID': G3.strength()})\n",
    "## closenessZ\n",
    "closeness3 = pd.DataFrame({'Node': G3.vs[\"name\"], 'g_closeness__AttendingPhysician_ClaimID': G3.closeness()})\n",
    "## infomap\n",
    "communities_infomap3 = pd.DataFrame({'Node': G3.vs[\"name\"], 'g_communities_infomap_AttendingPhysician_ClaimID': G3.community_infomap().membership})"
   ]
  },
  {
   "cell_type": "code",
   "execution_count": 85,
   "id": "abfd72e5",
   "metadata": {},
   "outputs": [],
   "source": [
    "### Graph only use training (earlier) data \n",
    "G3_tr = Graph.DataFrame(df_train_inp_m_tr.loc[df_train_inp_m_tr['AttendingPhysician'].notnull(),\n",
    "                                              ['AttendingPhysician', 'ClaimID']], directed=False)\n",
    "\n",
    "## degree\n",
    "degree3_tr = pd.DataFrame({'Node': G3_tr.vs[\"name\"], 'g_degree_AttendingPhysician_ClaimID': G3_tr.strength()})\n",
    "## closeness\n",
    "closeness3_tr = pd.DataFrame({'Node': G3_tr.vs[\"name\"], 'g_closeness__AttendingPhysician_ClaimID': G3_tr.closeness()})\n",
    "## infomap\n",
    "communities_infomap3_tr = pd.DataFrame({'Node': G3_tr.vs[\"name\"], 'g_communities_infomap_AttendingPhysician_ClaimID': G3_tr.community_infomap().membership})"
   ]
  },
  {
   "cell_type": "markdown",
   "id": "38b23c43",
   "metadata": {},
   "source": [
    "#### 4) Create graph from dataframe. Provider --> Attending Physician"
   ]
  },
  {
   "cell_type": "code",
   "execution_count": 32,
   "id": "0a6c70cb",
   "metadata": {},
   "outputs": [],
   "source": [
    "G4 = Graph.DataFrame(df_train_inp_m.loc[df_train_inp_m['AttendingPhysician'].notnull(),\n",
    "                                        ['Provider', 'AttendingPhysician']], directed=False)\n",
    "\n",
    "## degree\n",
    "degree4 = pd.DataFrame({'Node': G4.vs[\"name\"], 'g_degree_Provider_AttendingPhysician': G4.strength()})\n",
    "## closeness\n",
    "closeness4 = pd.DataFrame({'Node': G4.vs[\"name\"], 'g_closeness_Provider_AttendingPhysician': G4.closeness()})\n",
    "## infomap\n",
    "communities_infomap4 = pd.DataFrame({'Node': G4.vs[\"name\"], 'g_communities_infomap_Provider_AttendingPhysician': G4.community_infomap().membership})"
   ]
  },
  {
   "cell_type": "code",
   "execution_count": 87,
   "id": "e4a472e5",
   "metadata": {},
   "outputs": [],
   "source": [
    "### Graph only use training (earlier) data \n",
    "G4_tr = Graph.DataFrame(df_train_inp_m_tr.loc[df_train_inp_m_tr['AttendingPhysician'].notnull(),\n",
    "                                              ['Provider', 'AttendingPhysician']], directed=False)\n",
    "\n",
    "## degree\n",
    "degree4_tr = pd.DataFrame({'Node': G4_tr.vs[\"name\"], 'g_degree_Provider_AttendingPhysician': G4_tr.strength()})\n",
    "## closeness\n",
    "closeness4_tr = pd.DataFrame({'Node': G4_tr.vs[\"name\"], 'g_closeness_Provider_AttendingPhysician': G4_tr.closeness()})\n",
    "## infomap\n",
    "communities_infomap4_tr = pd.DataFrame({'Node': G4_tr.vs[\"name\"], 'g_communities_infomap_Provider_AttendingPhysician': G4_tr.community_infomap().membership})"
   ]
  },
  {
   "cell_type": "markdown",
   "id": "f04f587e",
   "metadata": {},
   "source": [
    "#### 5) Create graph from dataframe. Provider --> BeneID"
   ]
  },
  {
   "cell_type": "code",
   "execution_count": 35,
   "id": "b610caf8",
   "metadata": {},
   "outputs": [],
   "source": [
    "G5 = Graph.DataFrame(df_train_inp_m[['Provider', 'BeneID']], directed=False)\n",
    "\n",
    "## degree\n",
    "degree5 = pd.DataFrame({'Node': G5.vs[\"name\"], 'g_degree_Provider_BeneID': G5.strength()})\n",
    "## closeness\n",
    "closeness5 = pd.DataFrame({'Node': G5.vs[\"name\"], 'g_closeness_Provider_BeneID': G5.closeness()})\n",
    "## infomap\n",
    "communities_infomap5 = pd.DataFrame({'Node': G5.vs[\"name\"], 'g_communities_infomap_Provider_BeneID': G5.community_infomap().membership})"
   ]
  },
  {
   "cell_type": "code",
   "execution_count": 88,
   "id": "eee16b32",
   "metadata": {},
   "outputs": [],
   "source": [
    "### Graph only use training (earlier) data \n",
    "G5_tr = Graph.DataFrame(df_train_inp_m_tr[['Provider', 'BeneID']], directed=False)\n",
    "\n",
    "## degree\n",
    "degree5_tr = pd.DataFrame({'Node': G5_tr.vs[\"name\"], 'g_degree_Provider_BeneID': G5_tr.strength()})\n",
    "## closeness\n",
    "closeness5_tr = pd.DataFrame({'Node': G5_tr.vs[\"name\"], 'g_closeness_Provider_BeneID': G5_tr.closeness()})\n",
    "## infomap\n",
    "communities_infomap5_tr = pd.DataFrame({'Node': G5_tr.vs[\"name\"], 'g_communities_infomap_Provider_BeneID': G5_tr.community_infomap().membership})"
   ]
  },
  {
   "cell_type": "markdown",
   "id": "7c0d26e9",
   "metadata": {},
   "source": [
    "#### 6) Create graph from dataframe. Provider --> DiagnosisGroupCode"
   ]
  },
  {
   "cell_type": "code",
   "execution_count": 72,
   "id": "5c452ac6",
   "metadata": {},
   "outputs": [],
   "source": [
    "G6 = Graph.DataFrame(df_train_inp_m[['Provider', 'DiagnosisGroupCode']], directed=False)\n",
    "\n",
    "## degree\n",
    "degree6 = pd.DataFrame({'Node': G6.vs[\"name\"], 'g_degree_Provider_DiagnosisGroupCode': G6.strength()})\n",
    "## closeness\n",
    "closeness6 = pd.DataFrame({'Node': G6.vs[\"name\"], 'g_closeness_Provider_DiagnosisGroupCode': G6.closeness()})\n",
    "## infomap\n",
    "communities_infomap6 = pd.DataFrame({'Node': G6.vs[\"name\"], 'g_communities_infomap_Provider_DiagnosisGroupCode': G6.community_infomap().membership})"
   ]
  },
  {
   "cell_type": "code",
   "execution_count": 90,
   "id": "a610b4b7",
   "metadata": {},
   "outputs": [],
   "source": [
    "### Graph only use training (earlier) data \n",
    "G6_tr = Graph.DataFrame(df_train_inp_m_tr[['Provider', 'DiagnosisGroupCode']], directed=False)\n",
    "\n",
    "## degree\n",
    "degree6_tr = pd.DataFrame({'Node': G6_tr.vs[\"name\"], 'g_degree_Provider_DiagnosisGroupCode': G6_tr.strength()})\n",
    "## closeness\n",
    "closeness6_tr = pd.DataFrame({'Node': G6_tr.vs[\"name\"], 'g_closeness_Provider_DiagnosisGroupCode': G6_tr.closeness()})\n",
    "## infomap\n",
    "communities_infomap6_tr = pd.DataFrame({'Node': G6_tr.vs[\"name\"], 'g_communities_infomap_Provider_DiagnosisGroupCode': G6_tr.community_infomap().membership})"
   ]
  },
  {
   "cell_type": "markdown",
   "id": "f00b1bb9",
   "metadata": {},
   "source": [
    "## Merge all graph features"
   ]
  },
  {
   "cell_type": "markdown",
   "id": "8e64d243",
   "metadata": {},
   "source": [
    "- Provider- ClaimID relationship (G2), \n",
    "- Provider- Attending Physician relationship (G4), \n",
    "- Provider- BeneID relationship (G5), \n",
    "- Provider- DiagnosisGroupCode relationship (G6)"
   ]
  },
  {
   "cell_type": "code",
   "execution_count": 122,
   "id": "4cbd60e8",
   "metadata": {},
   "outputs": [
    {
     "name": "stdout",
     "output_type": "stream",
     "text": [
      "(2041, 12)\n"
     ]
    }
   ],
   "source": [
    "## Graph feature generated from training (earlier) data\n",
    "graph_feature_tr = [degree2_tr, closeness2_tr, communities_infomap2_tr,\n",
    "                    degree4_tr, closeness4_tr, communities_infomap4_tr,\n",
    "                    degree5_tr, closeness5_tr, communities_infomap5_tr,\n",
    "                    degree6_tr, closeness6_tr, communities_infomap6_tr]\n",
    "graph_feature_tr = reduce(lambda left, right: pd.merge(left, right, how='left', on='Node'), graph_feature_tr)\n",
    "graph_feature_tr = graph_feature_tr[graph_feature_tr['Node'].str.contains('PRV')].set_index('Node')\n",
    "print(graph_feature_tr.shape)"
   ]
  },
  {
   "cell_type": "code",
   "execution_count": 123,
   "id": "80edabb0",
   "metadata": {},
   "outputs": [
    {
     "name": "stdout",
     "output_type": "stream",
     "text": [
      "(2092, 12)\n"
     ]
    }
   ],
   "source": [
    "## Graph feature generated from full dataset for test\n",
    "graph_feature_te = [degree2, closeness2, communities_infomap2,\n",
    "                    degree4, closeness4, communities_infomap4,\n",
    "                    degree5, closeness5, communities_infomap5,\n",
    "                    degree6, closeness6, communities_infomap6]\n",
    "graph_feature_te = reduce(lambda left, right: pd.merge(left, right, how='left', on='Node'), graph_feature_te)\n",
    "graph_feature_te = graph_feature_te[graph_feature_te['Node'].str.contains('PRV')].set_index('Node')\n",
    "print(graph_feature_te.shape)"
   ]
  },
  {
   "cell_type": "markdown",
   "id": "09465a7b",
   "metadata": {},
   "source": [
    "----\n",
    "# Step 3 Train Models"
   ]
  },
  {
   "cell_type": "markdown",
   "id": "8eb7062c",
   "metadata": {},
   "source": [
    "The aim of the model is to predict provider level fraud.<br>\n",
    "Data will need to be aggregated to a provider level first. <br>\n",
    "Then append graph features at ProviderID level. At this stage, discard graph features that is not at ProviderID level."
   ]
  },
  {
   "cell_type": "markdown",
   "id": "178c4bbf",
   "metadata": {},
   "source": [
    "### 1) Aggregate model base to ProviderID level"
   ]
  },
  {
   "cell_type": "code",
   "execution_count": 93,
   "id": "bb68454c",
   "metadata": {},
   "outputs": [
    {
     "data": {
      "text/plain": [
       "Index(['BeneID', 'ClaimID', 'Provider', 'InscClaimAmtReimbursed',\n",
       "       'AttendingPhysician', 'OperatingPhysician', 'OtherPhysician',\n",
       "       'ClmAdmitDiagnosisCode', 'DeductibleAmtPaid', 'DiagnosisGroupCode',\n",
       "       'ClmDiagnosisCode_1', 'ClmDiagnosisCode_2', 'ClmDiagnosisCode_3',\n",
       "       'ClmDiagnosisCode_4', 'ClmDiagnosisCode_5', 'ClmDiagnosisCode_6',\n",
       "       'ClmDiagnosisCode_7', 'ClmDiagnosisCode_8', 'ClmDiagnosisCode_9',\n",
       "       'ClmDiagnosisCode_10', 'ClmProcedureCode_1', 'ClmProcedureCode_2',\n",
       "       'ClmProcedureCode_3', 'ClmProcedureCode_4', 'ClmProcedureCode_5',\n",
       "       'ClmProcedureCode_6', 'ClaimDurationInDays', 'AdmissionDurationInDays',\n",
       "       'pr_4019', 'pr_2724', 'pr_9904', 'pr_8154', 'pr_66', 'di_4019',\n",
       "       'di_25000', 'di_2724', 'di_V5869', 'di_42731', 'total_num_diag',\n",
       "       'total_num_proce', 'DOB', 'DOD', 'Gender', 'Race', 'State', 'County',\n",
       "       'NoOfMonths_PartACov', 'NoOfMonths_PartBCov',\n",
       "       'IPAnnualReimbursementAmt', 'IPAnnualDeductibleAmt',\n",
       "       'OPAnnualReimbursementAmt', 'OPAnnualDeductibleAmt',\n",
       "       'ChronicCond_Alzheimer_1', 'ChronicCond_Heartfailure_1',\n",
       "       'ChronicCond_KidneyDisease_1', 'ChronicCond_Cancer_1',\n",
       "       'ChronicCond_ObstrPulmonary_1', 'ChronicCond_Depression_1',\n",
       "       'ChronicCond_Diabetes_1', 'ChronicCond_IschemicHeart_1',\n",
       "       'ChronicCond_Osteoporasis_1', 'ChronicCond_rheumatoidarthritis_1',\n",
       "       'ChronicCond_stroke_1', 'RenalDiseaseIndicator_Y', 'PotentialFraud'],\n",
       "      dtype='object')"
      ]
     },
     "execution_count": 93,
     "metadata": {},
     "output_type": "execute_result"
    }
   ],
   "source": [
    "df_train_inp_m_tr.columns"
   ]
  },
  {
   "cell_type": "code",
   "execution_count": 96,
   "id": "94a92a6b",
   "metadata": {},
   "outputs": [
    {
     "name": "stdout",
     "output_type": "stream",
     "text": [
      "(2041, 51)\n"
     ]
    }
   ],
   "source": [
    "## Remove some categorical columns such as age, race etc\n",
    "df_train_inp_m0_tr = df_train_inp_m_tr.drop(['BeneID', 'ClaimID', 'AttendingPhysician', 'OperatingPhysician',\n",
    "                                             'OtherPhysician', 'ClmAdmitDiagnosisCode', 'DOB', 'DOD', 'Gender',\n",
    "                                             'Race', 'State', 'County', 'DiagnosisGroupCode'], axis=1)\n",
    "\n",
    "df_train_inp_m1_tr = df_train_inp_m0_tr.groupby(['Provider','PotentialFraud'],as_index=False).agg('sum')\n",
    "df_train_inp_m1_tr = df_train_inp_m1_tr.set_index('Provider')\n",
    "print(df_train_inp_m1_tr.shape)"
   ]
  },
  {
   "cell_type": "code",
   "execution_count": 97,
   "id": "92c62d6a",
   "metadata": {},
   "outputs": [
    {
     "name": "stdout",
     "output_type": "stream",
     "text": [
      "(1544, 51)\n"
     ]
    }
   ],
   "source": [
    "## Remove some categorical columns such as age, race etc\n",
    "df_train_inp_m0_te = df_train_inp_m_te.drop(['BeneID', 'ClaimID', 'AttendingPhysician', 'OperatingPhysician',\n",
    "                                             'OtherPhysician', 'ClmAdmitDiagnosisCode', 'DOB', 'DOD', 'Gender',\n",
    "                                             'Race', 'State', 'County', 'DiagnosisGroupCode'], axis=1)\n",
    "\n",
    "df_train_inp_m1_te = df_train_inp_m0_te.groupby(['Provider','PotentialFraud'],as_index=False).agg('sum')\n",
    "df_train_inp_m1_te = df_train_inp_m1_te.set_index('Provider')\n",
    "print(df_train_inp_m1_te.shape)"
   ]
  },
  {
   "cell_type": "code",
   "execution_count": 98,
   "id": "0aafd492",
   "metadata": {},
   "outputs": [
    {
     "data": {
      "text/html": [
       "<div>\n",
       "<style scoped>\n",
       "    .dataframe tbody tr th:only-of-type {\n",
       "        vertical-align: middle;\n",
       "    }\n",
       "\n",
       "    .dataframe tbody tr th {\n",
       "        vertical-align: top;\n",
       "    }\n",
       "\n",
       "    .dataframe thead th {\n",
       "        text-align: right;\n",
       "    }\n",
       "</style>\n",
       "<table border=\"1\" class=\"dataframe\">\n",
       "  <thead>\n",
       "    <tr style=\"text-align: right;\">\n",
       "      <th></th>\n",
       "      <th>PotentialFraud</th>\n",
       "      <th>InscClaimAmtReimbursed</th>\n",
       "      <th>DeductibleAmtPaid</th>\n",
       "      <th>ClmDiagnosisCode_1</th>\n",
       "      <th>ClmDiagnosisCode_2</th>\n",
       "      <th>ClmDiagnosisCode_3</th>\n",
       "      <th>ClmDiagnosisCode_4</th>\n",
       "      <th>ClmDiagnosisCode_5</th>\n",
       "      <th>ClmDiagnosisCode_6</th>\n",
       "      <th>ClmDiagnosisCode_7</th>\n",
       "      <th>...</th>\n",
       "      <th>ChronicCond_KidneyDisease_1</th>\n",
       "      <th>ChronicCond_Cancer_1</th>\n",
       "      <th>ChronicCond_ObstrPulmonary_1</th>\n",
       "      <th>ChronicCond_Depression_1</th>\n",
       "      <th>ChronicCond_Diabetes_1</th>\n",
       "      <th>ChronicCond_IschemicHeart_1</th>\n",
       "      <th>ChronicCond_Osteoporasis_1</th>\n",
       "      <th>ChronicCond_rheumatoidarthritis_1</th>\n",
       "      <th>ChronicCond_stroke_1</th>\n",
       "      <th>RenalDiseaseIndicator_Y</th>\n",
       "    </tr>\n",
       "    <tr>\n",
       "      <th>Provider</th>\n",
       "      <th></th>\n",
       "      <th></th>\n",
       "      <th></th>\n",
       "      <th></th>\n",
       "      <th></th>\n",
       "      <th></th>\n",
       "      <th></th>\n",
       "      <th></th>\n",
       "      <th></th>\n",
       "      <th></th>\n",
       "      <th></th>\n",
       "      <th></th>\n",
       "      <th></th>\n",
       "      <th></th>\n",
       "      <th></th>\n",
       "      <th></th>\n",
       "      <th></th>\n",
       "      <th></th>\n",
       "      <th></th>\n",
       "      <th></th>\n",
       "      <th></th>\n",
       "    </tr>\n",
       "  </thead>\n",
       "  <tbody>\n",
       "    <tr>\n",
       "      <th>PRV51003</th>\n",
       "      <td>1</td>\n",
       "      <td>103000</td>\n",
       "      <td>11748.0</td>\n",
       "      <td>11.0</td>\n",
       "      <td>11.0</td>\n",
       "      <td>10.0</td>\n",
       "      <td>10.0</td>\n",
       "      <td>10.0</td>\n",
       "      <td>9.0</td>\n",
       "      <td>9.0</td>\n",
       "      <td>...</td>\n",
       "      <td>5</td>\n",
       "      <td>0</td>\n",
       "      <td>4</td>\n",
       "      <td>2</td>\n",
       "      <td>7</td>\n",
       "      <td>10</td>\n",
       "      <td>3</td>\n",
       "      <td>2</td>\n",
       "      <td>1</td>\n",
       "      <td>2</td>\n",
       "    </tr>\n",
       "    <tr>\n",
       "      <th>PRV51011</th>\n",
       "      <td>0</td>\n",
       "      <td>5000</td>\n",
       "      <td>1068.0</td>\n",
       "      <td>1.0</td>\n",
       "      <td>1.0</td>\n",
       "      <td>1.0</td>\n",
       "      <td>1.0</td>\n",
       "      <td>1.0</td>\n",
       "      <td>1.0</td>\n",
       "      <td>1.0</td>\n",
       "      <td>...</td>\n",
       "      <td>1</td>\n",
       "      <td>0</td>\n",
       "      <td>0</td>\n",
       "      <td>1</td>\n",
       "      <td>1</td>\n",
       "      <td>1</td>\n",
       "      <td>1</td>\n",
       "      <td>1</td>\n",
       "      <td>0</td>\n",
       "      <td>1</td>\n",
       "    </tr>\n",
       "  </tbody>\n",
       "</table>\n",
       "<p>2 rows × 51 columns</p>\n",
       "</div>"
      ],
      "text/plain": [
       "          PotentialFraud  InscClaimAmtReimbursed  DeductibleAmtPaid  \\\n",
       "Provider                                                              \n",
       "PRV51003               1                  103000            11748.0   \n",
       "PRV51011               0                    5000             1068.0   \n",
       "\n",
       "          ClmDiagnosisCode_1  ClmDiagnosisCode_2  ClmDiagnosisCode_3  \\\n",
       "Provider                                                               \n",
       "PRV51003                11.0                11.0                10.0   \n",
       "PRV51011                 1.0                 1.0                 1.0   \n",
       "\n",
       "          ClmDiagnosisCode_4  ClmDiagnosisCode_5  ClmDiagnosisCode_6  \\\n",
       "Provider                                                               \n",
       "PRV51003                10.0                10.0                 9.0   \n",
       "PRV51011                 1.0                 1.0                 1.0   \n",
       "\n",
       "          ClmDiagnosisCode_7  ...  ChronicCond_KidneyDisease_1  \\\n",
       "Provider                      ...                                \n",
       "PRV51003                 9.0  ...                            5   \n",
       "PRV51011                 1.0  ...                            1   \n",
       "\n",
       "          ChronicCond_Cancer_1  ChronicCond_ObstrPulmonary_1  \\\n",
       "Provider                                                       \n",
       "PRV51003                     0                             4   \n",
       "PRV51011                     0                             0   \n",
       "\n",
       "          ChronicCond_Depression_1  ChronicCond_Diabetes_1  \\\n",
       "Provider                                                     \n",
       "PRV51003                         2                       7   \n",
       "PRV51011                         1                       1   \n",
       "\n",
       "          ChronicCond_IschemicHeart_1  ChronicCond_Osteoporasis_1  \\\n",
       "Provider                                                            \n",
       "PRV51003                           10                           3   \n",
       "PRV51011                            1                           1   \n",
       "\n",
       "          ChronicCond_rheumatoidarthritis_1  ChronicCond_stroke_1  \\\n",
       "Provider                                                            \n",
       "PRV51003                                  2                     1   \n",
       "PRV51011                                  1                     0   \n",
       "\n",
       "          RenalDiseaseIndicator_Y  \n",
       "Provider                           \n",
       "PRV51003                        2  \n",
       "PRV51011                        1  \n",
       "\n",
       "[2 rows x 51 columns]"
      ]
     },
     "execution_count": 98,
     "metadata": {},
     "output_type": "execute_result"
    }
   ],
   "source": [
    "df_train_inp_m1_te.head(2)"
   ]
  },
  {
   "cell_type": "code",
   "execution_count": 100,
   "id": "ab095a6e",
   "metadata": {},
   "outputs": [
    {
     "data": {
      "text/plain": [
       "0    1601\n",
       "1     440\n",
       "Name: PotentialFraud, dtype: int64"
      ]
     },
     "execution_count": 100,
     "metadata": {},
     "output_type": "execute_result"
    }
   ],
   "source": [
    "df_train_inp_m1_tr['PotentialFraud'].value_counts()"
   ]
  },
  {
   "cell_type": "code",
   "execution_count": 101,
   "id": "1a40fe4a",
   "metadata": {},
   "outputs": [
    {
     "data": {
      "text/plain": [
       "0    1137\n",
       "1     407\n",
       "Name: PotentialFraud, dtype: int64"
      ]
     },
     "execution_count": 101,
     "metadata": {},
     "output_type": "execute_result"
    }
   ],
   "source": [
    "df_train_inp_m1_te['PotentialFraud'].value_counts()"
   ]
  },
  {
   "cell_type": "markdown",
   "id": "01ea15f9",
   "metadata": {},
   "source": [
    "Good, model target looks good."
   ]
  },
  {
   "cell_type": "markdown",
   "id": "4ec9777c",
   "metadata": {},
   "source": [
    "### 2) Append graph features"
   ]
  },
  {
   "cell_type": "code",
   "execution_count": 128,
   "id": "15b1f8ef",
   "metadata": {},
   "outputs": [
    {
     "name": "stdout",
     "output_type": "stream",
     "text": [
      "(2041, 51)\n",
      "(2041, 63)\n"
     ]
    }
   ],
   "source": [
    "print(df_train_inp_m1_tr.shape)\n",
    "df_train_inp_m_tr_g = df_train_inp_m1_tr.join(graph_feature_tr, how='inner')\n",
    "print(df_train_inp_m_tr_g.shape)"
   ]
  },
  {
   "cell_type": "code",
   "execution_count": 127,
   "id": "861d25db",
   "metadata": {},
   "outputs": [
    {
     "name": "stdout",
     "output_type": "stream",
     "text": [
      "(1544, 51)\n",
      "(1544, 63)\n"
     ]
    }
   ],
   "source": [
    "print(df_train_inp_m1_te.shape)\n",
    "df_train_inp_m_te_g = df_train_inp_m1_te.join(graph_feature_te, how='inner')\n",
    "print(df_train_inp_m_te_g.shape)"
   ]
  },
  {
   "cell_type": "markdown",
   "id": "8726af13",
   "metadata": {},
   "source": [
    "### 3) Set up a seperate model base without the graph features"
   ]
  },
  {
   "cell_type": "code",
   "execution_count": 129,
   "id": "3a26401b",
   "metadata": {},
   "outputs": [
    {
     "name": "stdout",
     "output_type": "stream",
     "text": [
      "(2041, 35)\n",
      "Index(['PotentialFraud', 'InscClaimAmtReimbursed', 'DeductibleAmtPaid',\n",
      "       'ClaimDurationInDays', 'AdmissionDurationInDays', 'pr_4019', 'pr_2724',\n",
      "       'pr_9904', 'pr_8154', 'pr_66', 'di_4019', 'di_25000', 'di_2724',\n",
      "       'di_V5869', 'di_42731', 'total_num_diag', 'total_num_proce',\n",
      "       'NoOfMonths_PartACov', 'NoOfMonths_PartBCov',\n",
      "       'IPAnnualReimbursementAmt', 'IPAnnualDeductibleAmt',\n",
      "       'OPAnnualReimbursementAmt', 'OPAnnualDeductibleAmt',\n",
      "       'ChronicCond_Alzheimer_1', 'ChronicCond_Heartfailure_1',\n",
      "       'ChronicCond_KidneyDisease_1', 'ChronicCond_Cancer_1',\n",
      "       'ChronicCond_ObstrPulmonary_1', 'ChronicCond_Depression_1',\n",
      "       'ChronicCond_Diabetes_1', 'ChronicCond_IschemicHeart_1',\n",
      "       'ChronicCond_Osteoporasis_1', 'ChronicCond_rheumatoidarthritis_1',\n",
      "       'ChronicCond_stroke_1', 'RenalDiseaseIndicator_Y'],\n",
      "      dtype='object')\n"
     ]
    }
   ],
   "source": [
    "df_train_inp_m_tr_ng = df_train_inp_m1_tr.copy()\n",
    "df_train_inp_m_tr_ng = df_train_inp_m_tr_ng.drop(procedure_col, axis=1)\n",
    "df_train_inp_m_tr_ng = df_train_inp_m_tr_ng.drop(diagnosis_col, axis=1)\n",
    "print(df_train_inp_m_tr_ng.shape)\n",
    "print(df_train_inp_m_tr_ng.columns)"
   ]
  },
  {
   "cell_type": "code",
   "execution_count": 130,
   "id": "5f9b73e0",
   "metadata": {},
   "outputs": [
    {
     "name": "stdout",
     "output_type": "stream",
     "text": [
      "(1544, 35)\n"
     ]
    }
   ],
   "source": [
    "df_train_inp_m_te_ng = df_train_inp_m1_te.copy()\n",
    "df_train_inp_m_te_ng = df_train_inp_m_te_ng.drop(procedure_col, axis=1)\n",
    "df_train_inp_m_te_ng = df_train_inp_m_te_ng.drop(diagnosis_col, axis=1)\n",
    "print(df_train_inp_m_te_ng.shape)"
   ]
  },
  {
   "cell_type": "markdown",
   "id": "ca3ef39c",
   "metadata": {},
   "source": [
    "### 4) Train models"
   ]
  },
  {
   "cell_type": "code",
   "execution_count": 147,
   "id": "ab1037ab",
   "metadata": {},
   "outputs": [],
   "source": [
    "## Set up two model training sets, one with graph features, one without graph features\n",
    "x_train_g = df_train_inp_m_tr_g.drop(axis=1, columns=['PotentialFraud'])\n",
    "x_train_ng = df_train_inp_m_tr_ng.drop(axis=1, columns=['PotentialFraud'])\n",
    "y_train = df_train_inp_m_tr_g['PotentialFraud']\n",
    "\n",
    "x_test_g = df_train_inp_m_te_g.drop(axis=1, columns=['PotentialFraud'])\n",
    "x_test_ng = df_train_inp_m_te_ng.drop(axis=1, columns=['PotentialFraud'])\n",
    "y_test = df_train_inp_m_te_g['PotentialFraud']"
   ]
  },
  {
   "cell_type": "markdown",
   "id": "75652d71",
   "metadata": {},
   "source": [
    "### Experiment 1: Train GBM model with and **WITHOUT** graph features"
   ]
  },
  {
   "cell_type": "code",
   "execution_count": 154,
   "id": "84524d7e",
   "metadata": {},
   "outputs": [
    {
     "name": "stdout",
     "output_type": "stream",
     "text": [
      "Test gini without graph feature is:  0.533\n",
      "Test AUC without graph feature is:  0.7665\n",
      "\n",
      "Top 10 features by shapley value for model without graph features are: \n",
      "                              shap_value\n",
      "InscClaimAmtReimbursed       194.588608\n",
      "di_2724                       45.241909\n",
      "di_25000                      33.343601\n",
      "OPAnnualReimbursementAmt      31.918221\n",
      "ClaimDurationInDays           27.247557\n",
      "OPAnnualDeductibleAmt          7.619026\n",
      "AdmissionDurationInDays        2.910347\n",
      "IPAnnualReimbursementAmt       1.925600\n",
      "ChronicCond_Diabetes_1         0.000000\n",
      "ChronicCond_IschemicHeart_1    0.000000\n"
     ]
    }
   ],
   "source": [
    "## fit model without graph features\n",
    "xgb_model_ng = xgboost.sklearn.XGBRegressor(eval_metric='auc',\n",
    "                                           objective='binary:logistic',\n",
    "                                           learning_rate=0.2,\n",
    "                                           n_estimators=10,\n",
    "                                           scale_pos_weight=1,\n",
    "                                           gamma=0.5,\n",
    "                                           min_child_weight=3,\n",
    "                                           subsample=0.9,\n",
    "                                           colsample_bytree=0.9,\n",
    "                                           max_depth=2)\n",
    "xgb_model_ng.fit(x_train_ng, y_train, verbose=True)\n",
    "\n",
    "y_pred_ng = xgb_model_ng.predict(x_test_ng)\n",
    "auc_ng = roc_auc_score(y_test, y_pred_ng)\n",
    "gini_ng = 2 * auc_ng- 1\n",
    "print(\"Test gini without graph feature is: \", gini_ng.round(4))\n",
    "print(\"Test AUC without graph feature is: \", auc_ng.round(4))\n",
    "\n",
    "explainer_ng = shap.TreeExplainer(xgb_model_ng)\n",
    "shap_ng = explainer_ng.shap_values(x_train_ng)\n",
    "shap_ng = pd.DataFrame(shap_ng)\n",
    "shap_ng.columns = x_train_ng.columns\n",
    "df_shap_ng = pd.DataFrame(shap_ng.sum(axis=0, skipna=True).abs()).sort_values(by=[0], ascending=False)\n",
    "df_shap_ng.columns = [\"shap_value\"]\n",
    "print()\n",
    "print(\"Top 10 features by shapley value for model without graph features are: \\n\", df_shap_ng.head(10))"
   ]
  },
  {
   "cell_type": "markdown",
   "id": "fc218965",
   "metadata": {},
   "source": [
    "### Experiment 2: Train GBM model with and **WITH** graph features"
   ]
  },
  {
   "cell_type": "code",
   "execution_count": 156,
   "id": "91ab7f37",
   "metadata": {},
   "outputs": [
    {
     "name": "stdout",
     "output_type": "stream",
     "text": [
      "Test gini with graph feature is:  0.5288\n",
      "Test AUC with graph feature is:  0.7644\n",
      "\n",
      "Top 10 features by shapley value for model with graph features are: \n",
      "                                          shap_value\n",
      "InscClaimAmtReimbursed                   183.947800\n",
      "di_2724                                   43.214848\n",
      "ClaimDurationInDays                       35.168591\n",
      "AdmissionDurationInDays                   33.144417\n",
      "OPAnnualReimbursementAmt                  26.263226\n",
      "OPAnnualDeductibleAmt                      9.073974\n",
      "g_closeness_Provider_DiagnosisGroupCode    7.813434\n",
      "ClmDiagnosisCode_8                         2.385093\n",
      "ChronicCond_Alzheimer_1                    0.000000\n",
      "IPAnnualDeductibleAmt                      0.000000\n"
     ]
    }
   ],
   "source": [
    "## fit model with graph features\n",
    "xgb_model_g = xgboost.sklearn.XGBRegressor(eval_metric='auc',\n",
    "                                           objective='binary:logistic',\n",
    "                                           learning_rate=0.2,\n",
    "                                           n_estimators=10,\n",
    "                                           scale_pos_weight=1,\n",
    "                                           gamma=0.5,\n",
    "                                           min_child_weight=3,\n",
    "                                           subsample=0.9,\n",
    "                                           colsample_bytree=0.9,\n",
    "                                           max_depth=2)\n",
    "xgb_model_g.fit(x_train_g, y_train, verbose=True)\n",
    "\n",
    "y_pred_g = xgb_model_g.predict(x_test_g)\n",
    "auc_g = roc_auc_score(y_test, y_pred_g)\n",
    "gini_g = 2 * auc_g - 1\n",
    "print(\"Test gini with graph feature is: \", gini_g.round(4))\n",
    "print(\"Test AUC with graph feature is: \", auc_g.round(4))\n",
    "\n",
    "explainer_g = shap.TreeExplainer(xgb_model_g)\n",
    "shap_g = explainer_g.shap_values(x_train_g)\n",
    "shap_g = pd.DataFrame(shap_g)\n",
    "shap_g.columns = x_train_g.columns\n",
    "df_shap_g = pd.DataFrame(shap_g.sum(axis=0, skipna=True).abs()).sort_values(by=[0], ascending=False)\n",
    "df_shap_g.columns = [\"shap_value\"]\n",
    "print()\n",
    "print(\"Top 10 features by shapley value for model with graph features are: \\n\", df_shap_g.head(10))"
   ]
  },
  {
   "cell_type": "code",
   "execution_count": null,
   "id": "2df06b50",
   "metadata": {},
   "outputs": [],
   "source": []
  }
 ],
 "metadata": {
  "kernelspec": {
   "display_name": "Python 3 (ipykernel)",
   "language": "python",
   "name": "python3"
  },
  "language_info": {
   "codemirror_mode": {
    "name": "ipython",
    "version": 3
   },
   "file_extension": ".py",
   "mimetype": "text/x-python",
   "name": "python",
   "nbconvert_exporter": "python",
   "pygments_lexer": "ipython3",
   "version": "3.7.13"
  }
 },
 "nbformat": 4,
 "nbformat_minor": 5
}
